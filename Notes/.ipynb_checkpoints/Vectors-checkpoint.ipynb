{
 "cells": [
  {
   "cell_type": "markdown",
   "metadata": {},
   "source": [
    "# Vectors\n",
    "**Author : Sanket Dave**\n",
    "\n",
    "---\n",
    ">*The simplest and most common data structure in R is the vector. Vectors come in two different flavors: atomic vectors and lists. An atomic vector contains exactly one data type, whereas a list may contain multiple data types. We'll explore atomic vectors further before we get to lists.In previous lessons, we dealt entirely with numeric vectors, which are one\n",
    " type of atomic vector. Other types of atomic vectors include logical,\n",
    " character, integer, and complex. In this lesson, we'll take a closer look at\n",
    " logical and character vectors.*\n",
    " \n",
    "> *Logical vectors can contain the values TRUE, FALSE, and NA (for 'not\n",
    " available'). These values are generated as the result of logical 'conditions'.\n",
    " Let's experiment with some simple conditions.*\n",
    "\n",
    "---\n",
    "\n",
    "**Topics covered:**\n",
    "\n",
    "- creating vector\n",
    "\n",
    "- conditional selection\n",
    "\n",
    "- creating a character vector\n",
    "\n",
    "- join the elements of vector using `paste()` function\n",
    "\n",
    "- different uses of `paste()` function\n",
    "\n",
    "---\n"
   ]
  },
  {
   "cell_type": "markdown",
   "metadata": {},
   "source": [
    "**First, create a numeric vector num_vect that contains the values 0.5, 55, -10, and 6.**"
   ]
  },
  {
   "cell_type": "markdown",
   "metadata": {},
   "source": [
    "num_vect <- c(0.5,55,-10,6)"
   ]
  },
  {
   "cell_type": "code",
   "execution_count": 6,
   "metadata": {},
   "outputs": [
    {
     "data": {
      "text/html": [
       "<ol class=list-inline>\n",
       "\t<li>0.5</li>\n",
       "\t<li>55</li>\n",
       "\t<li>-10</li>\n",
       "\t<li>6</li>\n",
       "</ol>\n"
      ],
      "text/latex": [
       "\\begin{enumerate*}\n",
       "\\item 0.5\n",
       "\\item 55\n",
       "\\item -10\n",
       "\\item 6\n",
       "\\end{enumerate*}\n"
      ],
      "text/markdown": [
       "1. 0.5\n",
       "2. 55\n",
       "3. -10\n",
       "4. 6\n",
       "\n",
       "\n"
      ],
      "text/plain": [
       "[1]   0.5  55.0 -10.0   6.0"
      ]
     },
     "metadata": {},
     "output_type": "display_data"
    }
   ],
   "source": [
    "num_vect"
   ]
  },
  {
   "cell_type": "markdown",
   "metadata": {},
   "source": [
    "**Now, create a variable called tf that gets the result of num_vect < 1, which\n",
    " is read as 'num_vect is less than 1'**"
   ]
  },
  {
   "cell_type": "code",
   "execution_count": 4,
   "metadata": {},
   "outputs": [],
   "source": [
    "tf <- num_vect<1"
   ]
  },
  {
   "cell_type": "code",
   "execution_count": 5,
   "metadata": {},
   "outputs": [
    {
     "data": {
      "text/html": [
       "<ol class=list-inline>\n",
       "\t<li>TRUE</li>\n",
       "\t<li>FALSE</li>\n",
       "\t<li>TRUE</li>\n",
       "\t<li>FALSE</li>\n",
       "</ol>\n"
      ],
      "text/latex": [
       "\\begin{enumerate*}\n",
       "\\item TRUE\n",
       "\\item FALSE\n",
       "\\item TRUE\n",
       "\\item FALSE\n",
       "\\end{enumerate*}\n"
      ],
      "text/markdown": [
       "1. TRUE\n",
       "2. FALSE\n",
       "3. TRUE\n",
       "4. FALSE\n",
       "\n",
       "\n"
      ],
      "text/plain": [
       "[1]  TRUE FALSE  TRUE FALSE"
      ]
     },
     "metadata": {},
     "output_type": "display_data"
    }
   ],
   "source": [
    "tf"
   ]
  },
  {
   "cell_type": "markdown",
   "metadata": {},
   "source": [
    "**Type num_vect >= 6 without assigning the result to a new\n",
    "variable.**"
   ]
  },
  {
   "cell_type": "code",
   "execution_count": 7,
   "metadata": {},
   "outputs": [
    {
     "data": {
      "text/html": [
       "<ol class=list-inline>\n",
       "\t<li>FALSE</li>\n",
       "\t<li>TRUE</li>\n",
       "\t<li>FALSE</li>\n",
       "\t<li>TRUE</li>\n",
       "</ol>\n"
      ],
      "text/latex": [
       "\\begin{enumerate*}\n",
       "\\item FALSE\n",
       "\\item TRUE\n",
       "\\item FALSE\n",
       "\\item TRUE\n",
       "\\end{enumerate*}\n"
      ],
      "text/markdown": [
       "1. FALSE\n",
       "2. TRUE\n",
       "3. FALSE\n",
       "4. TRUE\n",
       "\n",
       "\n"
      ],
      "text/plain": [
       "[1] FALSE  TRUE FALSE  TRUE"
      ]
     },
     "metadata": {},
     "output_type": "display_data"
    }
   ],
   "source": [
    "num_vect >= 6"
   ]
  },
  {
   "cell_type": "markdown",
   "metadata": {},
   "source": [
    ">*The `<` and `>=` symbols in these examples are called 'logical operators'.\n",
    " Other logical operators include `>`, `<=`, `==` for exact equality, and `!=`\n",
    " for inequality.*\n",
    " \n",
    ">If we have two logical expressions, A and B, we can ask whether at least one\n",
    " is TRUE with A | B (logical 'or' a.k.a. 'union') or whether they are both TRUE\n",
    " with A & B (logical 'and' a.k.a. 'intersection'). Lastly, !A is the negation\n",
    " of A and is TRUE when A is FALSE and vice versa.** \n",
    "\n",
    ">*Character vectors are also very common in R. Double quotes are used to\n",
    " distinguish character objects, as in the following example.*\n",
    "\n",
    "**Create a character vector that contains the following words: `\"My\", \"name\", \"is\"`. Remember to enclose each word in its own set of double quotes, so that R knows they are character strings. Store the vector in a variable called\n",
    " `my_char`.**\n"
   ]
  },
  {
   "cell_type": "code",
   "execution_count": 8,
   "metadata": {},
   "outputs": [],
   "source": [
    "my_char <- c(\"My\",\"name\",\"is\")"
   ]
  },
  {
   "cell_type": "code",
   "execution_count": 9,
   "metadata": {},
   "outputs": [
    {
     "data": {
      "text/html": [
       "<ol class=list-inline>\n",
       "\t<li>'My'</li>\n",
       "\t<li>'name'</li>\n",
       "\t<li>'is'</li>\n",
       "</ol>\n"
      ],
      "text/latex": [
       "\\begin{enumerate*}\n",
       "\\item 'My'\n",
       "\\item 'name'\n",
       "\\item 'is'\n",
       "\\end{enumerate*}\n"
      ],
      "text/markdown": [
       "1. 'My'\n",
       "2. 'name'\n",
       "3. 'is'\n",
       "\n",
       "\n"
      ],
      "text/plain": [
       "[1] \"My\"   \"name\" \"is\"  "
      ]
     },
     "metadata": {},
     "output_type": "display_data"
    }
   ],
   "source": [
    "my_char"
   ]
  },
  {
   "cell_type": "markdown",
   "metadata": {},
   "source": [
    "**Right now, my_char is a character vector of `length 3`. Let's say we want to\n",
    " join the elements of my_char together into one continuous character string\n",
    " (i.e. a character vector of length 1). We can do this using the `paste()`\n",
    " function.**\n",
    " \n",
    " **Type `paste(my_char, collapse = \" \")` now. Make sure there's a space between the\n",
    " double quotes in the `collapse` argument. You'll see why in a second.**"
   ]
  },
  {
   "cell_type": "code",
   "execution_count": 10,
   "metadata": {},
   "outputs": [
    {
     "data": {
      "text/html": [
       "'My name is'"
      ],
      "text/latex": [
       "'My name is'"
      ],
      "text/markdown": [
       "'My name is'"
      ],
      "text/plain": [
       "[1] \"My name is\""
      ]
     },
     "metadata": {},
     "output_type": "display_data"
    }
   ],
   "source": [
    "paste(my_char, collapse = \" \")"
   ]
  },
  {
   "cell_type": "markdown",
   "metadata": {},
   "source": [
    "*It seems that we're missing something.... Ah, yes! Your name!*\n",
    "\n",
    "**To add (or 'concatenate') your name to the end of my_char, use the c()\n",
    " function like this: c(my_char, \"your_name_here\"). Place your name in double\n",
    " quotes where I've put \"your_name_here\". Try it now, storing the result in a\n",
    " new variable called my_name.**"
   ]
  },
  {
   "cell_type": "code",
   "execution_count": 11,
   "metadata": {},
   "outputs": [],
   "source": [
    "my_name <- c(my_char, \"Sanket\")"
   ]
  },
  {
   "cell_type": "code",
   "execution_count": 12,
   "metadata": {},
   "outputs": [
    {
     "data": {
      "text/html": [
       "<ol class=list-inline>\n",
       "\t<li>'My'</li>\n",
       "\t<li>'name'</li>\n",
       "\t<li>'is'</li>\n",
       "\t<li>'Sanket'</li>\n",
       "</ol>\n"
      ],
      "text/latex": [
       "\\begin{enumerate*}\n",
       "\\item 'My'\n",
       "\\item 'name'\n",
       "\\item 'is'\n",
       "\\item 'Sanket'\n",
       "\\end{enumerate*}\n"
      ],
      "text/markdown": [
       "1. 'My'\n",
       "2. 'name'\n",
       "3. 'is'\n",
       "4. 'Sanket'\n",
       "\n",
       "\n"
      ],
      "text/plain": [
       "[1] \"My\"     \"name\"   \"is\"     \"Sanket\""
      ]
     },
     "metadata": {},
     "output_type": "display_data"
    }
   ],
   "source": [
    "my_name"
   ]
  },
  {
   "cell_type": "markdown",
   "metadata": {},
   "source": [
    "**Now, use the paste() function once more to join the words in my_name together\n",
    " into a single character string. Don't forget to say collapse = \" \"!**"
   ]
  },
  {
   "cell_type": "code",
   "execution_count": 13,
   "metadata": {},
   "outputs": [
    {
     "data": {
      "text/html": [
       "'My name is Sanket'"
      ],
      "text/latex": [
       "'My name is Sanket'"
      ],
      "text/markdown": [
       "'My name is Sanket'"
      ],
      "text/plain": [
       "[1] \"My name is Sanket\""
      ]
     },
     "metadata": {},
     "output_type": "display_data"
    }
   ],
   "source": [
    "paste(my_name,collapse = \" \")"
   ]
  },
  {
   "cell_type": "markdown",
   "metadata": {},
   "source": [
    " **Try `paste(\"Hello\", \"world!\", sep = \" \")`, where\n",
    " the `sep` argument tells R that we want to separate the joined elements with a\n",
    " single space.**"
   ]
  },
  {
   "cell_type": "code",
   "execution_count": 14,
   "metadata": {},
   "outputs": [
    {
     "data": {
      "text/html": [
       "'Hello world!'"
      ],
      "text/latex": [
       "'Hello world!'"
      ],
      "text/markdown": [
       "'Hello world!'"
      ],
      "text/plain": [
       "[1] \"Hello world!\""
      ]
     },
     "metadata": {},
     "output_type": "display_data"
    }
   ],
   "source": [
    "paste(\"Hello\", \"world!\", sep = \" \")"
   ]
  },
  {
   "cell_type": "markdown",
   "metadata": {},
   "source": [
    "**For a slightly more complicated example, we can join two vectors, each of\n",
    " length 3. Use `paste()` to join the integer vector 1:3 with the character vector\n",
    " `c(\"X\", \"Y\", \"Z\")`. This time, use `sep = \"\"` to leave no space between the joined\n",
    " elements.**"
   ]
  },
  {
   "cell_type": "code",
   "execution_count": 16,
   "metadata": {},
   "outputs": [
    {
     "data": {
      "text/html": [
       "<ol class=list-inline>\n",
       "\t<li>'1X'</li>\n",
       "\t<li>'2Y'</li>\n",
       "\t<li>'3Z'</li>\n",
       "</ol>\n"
      ],
      "text/latex": [
       "\\begin{enumerate*}\n",
       "\\item '1X'\n",
       "\\item '2Y'\n",
       "\\item '3Z'\n",
       "\\end{enumerate*}\n"
      ],
      "text/markdown": [
       "1. '1X'\n",
       "2. '2Y'\n",
       "3. '3Z'\n",
       "\n",
       "\n"
      ],
      "text/plain": [
       "[1] \"1X\" \"2Y\" \"3Z\""
      ]
     },
     "metadata": {},
     "output_type": "display_data"
    }
   ],
   "source": [
    "paste(1:3,c(\"X\", \"Y\", \"Z\"),sep = \"\")"
   ]
  },
  {
   "cell_type": "markdown",
   "metadata": {},
   "source": [
    "**What do you think will happen if our vectors are of different length?**\n",
    "\n",
    "***Vector recycling!* Try `paste(LETTERS, 1:4, sep = \"-\")`, where LETTERS is a\n",
    " predefined variable in R containing a character vector of all 26 letters in\n",
    " the English alphabet.**"
   ]
  },
  {
   "cell_type": "code",
   "execution_count": 17,
   "metadata": {},
   "outputs": [
    {
     "data": {
      "text/html": [
       "<ol class=list-inline>\n",
       "\t<li>'A-1'</li>\n",
       "\t<li>'B-2'</li>\n",
       "\t<li>'C-3'</li>\n",
       "\t<li>'D-4'</li>\n",
       "\t<li>'E-1'</li>\n",
       "\t<li>'F-2'</li>\n",
       "\t<li>'G-3'</li>\n",
       "\t<li>'H-4'</li>\n",
       "\t<li>'I-1'</li>\n",
       "\t<li>'J-2'</li>\n",
       "\t<li>'K-3'</li>\n",
       "\t<li>'L-4'</li>\n",
       "\t<li>'M-1'</li>\n",
       "\t<li>'N-2'</li>\n",
       "\t<li>'O-3'</li>\n",
       "\t<li>'P-4'</li>\n",
       "\t<li>'Q-1'</li>\n",
       "\t<li>'R-2'</li>\n",
       "\t<li>'S-3'</li>\n",
       "\t<li>'T-4'</li>\n",
       "\t<li>'U-1'</li>\n",
       "\t<li>'V-2'</li>\n",
       "\t<li>'W-3'</li>\n",
       "\t<li>'X-4'</li>\n",
       "\t<li>'Y-1'</li>\n",
       "\t<li>'Z-2'</li>\n",
       "</ol>\n"
      ],
      "text/latex": [
       "\\begin{enumerate*}\n",
       "\\item 'A-1'\n",
       "\\item 'B-2'\n",
       "\\item 'C-3'\n",
       "\\item 'D-4'\n",
       "\\item 'E-1'\n",
       "\\item 'F-2'\n",
       "\\item 'G-3'\n",
       "\\item 'H-4'\n",
       "\\item 'I-1'\n",
       "\\item 'J-2'\n",
       "\\item 'K-3'\n",
       "\\item 'L-4'\n",
       "\\item 'M-1'\n",
       "\\item 'N-2'\n",
       "\\item 'O-3'\n",
       "\\item 'P-4'\n",
       "\\item 'Q-1'\n",
       "\\item 'R-2'\n",
       "\\item 'S-3'\n",
       "\\item 'T-4'\n",
       "\\item 'U-1'\n",
       "\\item 'V-2'\n",
       "\\item 'W-3'\n",
       "\\item 'X-4'\n",
       "\\item 'Y-1'\n",
       "\\item 'Z-2'\n",
       "\\end{enumerate*}\n"
      ],
      "text/markdown": [
       "1. 'A-1'\n",
       "2. 'B-2'\n",
       "3. 'C-3'\n",
       "4. 'D-4'\n",
       "5. 'E-1'\n",
       "6. 'F-2'\n",
       "7. 'G-3'\n",
       "8. 'H-4'\n",
       "9. 'I-1'\n",
       "10. 'J-2'\n",
       "11. 'K-3'\n",
       "12. 'L-4'\n",
       "13. 'M-1'\n",
       "14. 'N-2'\n",
       "15. 'O-3'\n",
       "16. 'P-4'\n",
       "17. 'Q-1'\n",
       "18. 'R-2'\n",
       "19. 'S-3'\n",
       "20. 'T-4'\n",
       "21. 'U-1'\n",
       "22. 'V-2'\n",
       "23. 'W-3'\n",
       "24. 'X-4'\n",
       "25. 'Y-1'\n",
       "26. 'Z-2'\n",
       "\n",
       "\n"
      ],
      "text/plain": [
       " [1] \"A-1\" \"B-2\" \"C-3\" \"D-4\" \"E-1\" \"F-2\" \"G-3\" \"H-4\" \"I-1\" \"J-2\" \"K-3\" \"L-4\"\n",
       "[13] \"M-1\" \"N-2\" \"O-3\" \"P-4\" \"Q-1\" \"R-2\" \"S-3\" \"T-4\" \"U-1\" \"V-2\" \"W-3\" \"X-4\"\n",
       "[25] \"Y-1\" \"Z-2\""
      ]
     },
     "metadata": {},
     "output_type": "display_data"
    }
   ],
   "source": [
    "paste(LETTERS, 1:4, sep = \"-\")"
   ]
  },
  {
   "cell_type": "markdown",
   "metadata": {},
   "source": [
    "**Since the character vector LETTERS is longer than the numeric vector 1:4, R\n",
    " simply recycles, or repeats, 1:4 until it matches the length of LETTERS.Also worth noting is that the numeric vector 1:4 gets 'coerced' into a\n",
    " character vector by the paste() function. We'll discuss coercion in another lesson, but all it really means is that the\n",
    " numbers 1, 2, 3, and 4 in the output above are no longer numbers to R, but\n",
    " rather characters \"1\", \"2\", \"3\", and \"4\".**\n"
   ]
  },
  {
   "cell_type": "markdown",
   "metadata": {},
   "source": [
    "**Source: [Swirlstats](swirlstats.com/students.html)**"
   ]
  }
 ],
 "metadata": {
  "kernelspec": {
   "display_name": "R",
   "language": "R",
   "name": "ir"
  },
  "language_info": {
   "codemirror_mode": "r",
   "file_extension": ".r",
   "mimetype": "text/x-r-source",
   "name": "R",
   "pygments_lexer": "r",
   "version": "3.6.1"
  }
 },
 "nbformat": 4,
 "nbformat_minor": 4
}
