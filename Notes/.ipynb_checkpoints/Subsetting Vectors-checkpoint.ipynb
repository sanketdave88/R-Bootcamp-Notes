{
 "cells": [
  {
   "cell_type": "markdown",
   "metadata": {},
   "source": [
    "# Subsetting Vectors\n",
    "**Author : Sanket Dave**\n",
    "\n",
    "---\n",
    "In this lesson, we'll see how to extract elements from a\n",
    " vector based on some conditions that we specify.\n",
    "\n",
    "For example, we may only be interested in the first 20\n",
    " elements of a vector, or only the elements that are not NA,\n",
    " or only those that are positive or correspond to a specific\n",
    " variable of interest. By the end of this lesson, you'll know\n",
    " how to handle each of these scenarios."
   ]
  },
  {
   "cell_type": "code",
   "execution_count": 1,
   "metadata": {},
   "outputs": [],
   "source": [
    "y <- rnorm(20)\n",
    "z <- rep(NA,20)"
   ]
  },
  {
   "cell_type": "code",
   "execution_count": 2,
   "metadata": {},
   "outputs": [],
   "source": [
    "x <- sample(c(y,z),20)"
   ]
  },
  {
   "cell_type": "markdown",
   "metadata": {},
   "source": [
    "I've created for you a vector called x that contains a random\n",
    " ordering of 10 numbers (from a standard normal distribution)\n",
    " and 10 NAs. Type x now to see what it looks like.\n"
   ]
  },
  {
   "cell_type": "code",
   "execution_count": 3,
   "metadata": {},
   "outputs": [
    {
     "data": {
      "text/html": [
       "<ol class=list-inline>\n",
       "\t<li>&lt;NA&gt;</li>\n",
       "\t<li>&lt;NA&gt;</li>\n",
       "\t<li>&lt;NA&gt;</li>\n",
       "\t<li>-0.665986578606803</li>\n",
       "\t<li>&lt;NA&gt;</li>\n",
       "\t<li>1.35582509380443</li>\n",
       "\t<li>&lt;NA&gt;</li>\n",
       "\t<li>0.112428973243285</li>\n",
       "\t<li>0.549181918310556</li>\n",
       "\t<li>-0.388151428633602</li>\n",
       "\t<li>0.364065218613917</li>\n",
       "\t<li>&lt;NA&gt;</li>\n",
       "\t<li>1.99667451227197</li>\n",
       "\t<li>-1.20648994465164</li>\n",
       "\t<li>&lt;NA&gt;</li>\n",
       "\t<li>-1.21492976945925</li>\n",
       "\t<li>&lt;NA&gt;</li>\n",
       "\t<li>-0.072607202413115</li>\n",
       "\t<li>-0.59508511713364</li>\n",
       "\t<li>&lt;NA&gt;</li>\n",
       "</ol>\n"
      ],
      "text/latex": [
       "\\begin{enumerate*}\n",
       "\\item <NA>\n",
       "\\item <NA>\n",
       "\\item <NA>\n",
       "\\item -0.665986578606803\n",
       "\\item <NA>\n",
       "\\item 1.35582509380443\n",
       "\\item <NA>\n",
       "\\item 0.112428973243285\n",
       "\\item 0.549181918310556\n",
       "\\item -0.388151428633602\n",
       "\\item 0.364065218613917\n",
       "\\item <NA>\n",
       "\\item 1.99667451227197\n",
       "\\item -1.20648994465164\n",
       "\\item <NA>\n",
       "\\item -1.21492976945925\n",
       "\\item <NA>\n",
       "\\item -0.072607202413115\n",
       "\\item -0.59508511713364\n",
       "\\item <NA>\n",
       "\\end{enumerate*}\n"
      ],
      "text/markdown": [
       "1. &lt;NA&gt;\n",
       "2. &lt;NA&gt;\n",
       "3. &lt;NA&gt;\n",
       "4. -0.665986578606803\n",
       "5. &lt;NA&gt;\n",
       "6. 1.35582509380443\n",
       "7. &lt;NA&gt;\n",
       "8. 0.112428973243285\n",
       "9. 0.549181918310556\n",
       "10. -0.388151428633602\n",
       "11. 0.364065218613917\n",
       "12. &lt;NA&gt;\n",
       "13. 1.99667451227197\n",
       "14. -1.20648994465164\n",
       "15. &lt;NA&gt;\n",
       "16. -1.21492976945925\n",
       "17. &lt;NA&gt;\n",
       "18. -0.072607202413115\n",
       "19. -0.59508511713364\n",
       "20. &lt;NA&gt;\n",
       "\n",
       "\n"
      ],
      "text/plain": [
       " [1]         NA         NA         NA -0.6659866         NA  1.3558251\n",
       " [7]         NA  0.1124290  0.5491819 -0.3881514  0.3640652         NA\n",
       "[13]  1.9966745 -1.2064899         NA -1.2149298         NA -0.0726072\n",
       "[19] -0.5950851         NA"
      ]
     },
     "metadata": {},
     "output_type": "display_data"
    }
   ],
   "source": [
    "x"
   ]
  },
  {
   "cell_type": "markdown",
   "metadata": {},
   "source": [
    "The way you tell R that you want to select some particular\n",
    " elements (i.e. a 'subset') from a vector is by placing an\n",
    " 'index vector' in square brackets immediately following the\n",
    " name of the vector.\n",
    "\n",
    "For a simple example, try `x[1:10]` to view the first ten\n",
    " elements of x."
   ]
  },
  {
   "cell_type": "code",
   "execution_count": 4,
   "metadata": {},
   "outputs": [
    {
     "data": {
      "text/html": [
       "<ol class=list-inline>\n",
       "\t<li>&lt;NA&gt;</li>\n",
       "\t<li>&lt;NA&gt;</li>\n",
       "\t<li>&lt;NA&gt;</li>\n",
       "\t<li>-0.665986578606803</li>\n",
       "\t<li>&lt;NA&gt;</li>\n",
       "\t<li>1.35582509380443</li>\n",
       "\t<li>&lt;NA&gt;</li>\n",
       "\t<li>0.112428973243285</li>\n",
       "\t<li>0.549181918310556</li>\n",
       "\t<li>-0.388151428633602</li>\n",
       "</ol>\n"
      ],
      "text/latex": [
       "\\begin{enumerate*}\n",
       "\\item <NA>\n",
       "\\item <NA>\n",
       "\\item <NA>\n",
       "\\item -0.665986578606803\n",
       "\\item <NA>\n",
       "\\item 1.35582509380443\n",
       "\\item <NA>\n",
       "\\item 0.112428973243285\n",
       "\\item 0.549181918310556\n",
       "\\item -0.388151428633602\n",
       "\\end{enumerate*}\n"
      ],
      "text/markdown": [
       "1. &lt;NA&gt;\n",
       "2. &lt;NA&gt;\n",
       "3. &lt;NA&gt;\n",
       "4. -0.665986578606803\n",
       "5. &lt;NA&gt;\n",
       "6. 1.35582509380443\n",
       "7. &lt;NA&gt;\n",
       "8. 0.112428973243285\n",
       "9. 0.549181918310556\n",
       "10. -0.388151428633602\n",
       "\n",
       "\n"
      ],
      "text/plain": [
       " [1]         NA         NA         NA -0.6659866         NA  1.3558251\n",
       " [7]         NA  0.1124290  0.5491819 -0.3881514"
      ]
     },
     "metadata": {},
     "output_type": "display_data"
    }
   ],
   "source": [
    "x[1:10]"
   ]
  },
  {
   "cell_type": "markdown",
   "metadata": {},
   "source": [
    "Index vectors come in four different flavors -- logical\n",
    " vectors, vectors of positive integers, vectors of negative\n",
    " integers, and vectors of character strings -- each of which\n",
    " we'll cover in this lesson.\n",
    "\n",
    " Let's start by indexing with logical vectors. One common\n",
    " scenario when working with real-world data is that we want to\n",
    " extract all elements of a vector that are not NA (i.e.\n",
    " missing data). Recall that `is.na(x)` yields a vector of\n",
    " logical values the same length as x, with TRUEs corresponding\n",
    " to NA values in x and FALSEs corresponding to non-NA values\n",
    " in x.\n",
    "\n",
    "What do you think `x[is.na(x)]` will give you?"
   ]
  },
  {
   "cell_type": "code",
   "execution_count": 6,
   "metadata": {},
   "outputs": [
    {
     "data": {
      "text/html": [
       "<ol class=list-inline>\n",
       "\t<li>&lt;NA&gt;</li>\n",
       "\t<li>&lt;NA&gt;</li>\n",
       "\t<li>&lt;NA&gt;</li>\n",
       "\t<li>&lt;NA&gt;</li>\n",
       "\t<li>&lt;NA&gt;</li>\n",
       "\t<li>&lt;NA&gt;</li>\n",
       "\t<li>&lt;NA&gt;</li>\n",
       "\t<li>&lt;NA&gt;</li>\n",
       "\t<li>&lt;NA&gt;</li>\n",
       "</ol>\n"
      ],
      "text/latex": [
       "\\begin{enumerate*}\n",
       "\\item <NA>\n",
       "\\item <NA>\n",
       "\\item <NA>\n",
       "\\item <NA>\n",
       "\\item <NA>\n",
       "\\item <NA>\n",
       "\\item <NA>\n",
       "\\item <NA>\n",
       "\\item <NA>\n",
       "\\end{enumerate*}\n"
      ],
      "text/markdown": [
       "1. &lt;NA&gt;\n",
       "2. &lt;NA&gt;\n",
       "3. &lt;NA&gt;\n",
       "4. &lt;NA&gt;\n",
       "5. &lt;NA&gt;\n",
       "6. &lt;NA&gt;\n",
       "7. &lt;NA&gt;\n",
       "8. &lt;NA&gt;\n",
       "9. &lt;NA&gt;\n",
       "\n",
       "\n"
      ],
      "text/plain": [
       "[1] NA NA NA NA NA NA NA NA NA"
      ]
     },
     "metadata": {},
     "output_type": "display_data"
    }
   ],
   "source": [
    "x[is.na(x)]"
   ]
  },
  {
   "cell_type": "markdown",
   "metadata": {},
   "source": [
    "Recall that `!` gives us the negation of a logical\n",
    " expression, so `!is.na(x)` can be read as 'is not NA'.\n",
    " Therefore, if we want to create a vector called y that\n",
    " contains all of the non-NA values from `x`, we can use `y <- x[!is.na(x)]`. Give it a try."
   ]
  },
  {
   "cell_type": "code",
   "execution_count": 8,
   "metadata": {},
   "outputs": [],
   "source": [
    "y <- x[!is.na(x)]"
   ]
  },
  {
   "cell_type": "code",
   "execution_count": 9,
   "metadata": {},
   "outputs": [
    {
     "data": {
      "text/html": [
       "<ol class=list-inline>\n",
       "\t<li>-0.665986578606803</li>\n",
       "\t<li>1.35582509380443</li>\n",
       "\t<li>0.112428973243285</li>\n",
       "\t<li>0.549181918310556</li>\n",
       "\t<li>-0.388151428633602</li>\n",
       "\t<li>0.364065218613917</li>\n",
       "\t<li>1.99667451227197</li>\n",
       "\t<li>-1.20648994465164</li>\n",
       "\t<li>-1.21492976945925</li>\n",
       "\t<li>-0.072607202413115</li>\n",
       "\t<li>-0.59508511713364</li>\n",
       "</ol>\n"
      ],
      "text/latex": [
       "\\begin{enumerate*}\n",
       "\\item -0.665986578606803\n",
       "\\item 1.35582509380443\n",
       "\\item 0.112428973243285\n",
       "\\item 0.549181918310556\n",
       "\\item -0.388151428633602\n",
       "\\item 0.364065218613917\n",
       "\\item 1.99667451227197\n",
       "\\item -1.20648994465164\n",
       "\\item -1.21492976945925\n",
       "\\item -0.072607202413115\n",
       "\\item -0.59508511713364\n",
       "\\end{enumerate*}\n"
      ],
      "text/markdown": [
       "1. -0.665986578606803\n",
       "2. 1.35582509380443\n",
       "3. 0.112428973243285\n",
       "4. 0.549181918310556\n",
       "5. -0.388151428633602\n",
       "6. 0.364065218613917\n",
       "7. 1.99667451227197\n",
       "8. -1.20648994465164\n",
       "9. -1.21492976945925\n",
       "10. -0.072607202413115\n",
       "11. -0.59508511713364\n",
       "\n",
       "\n"
      ],
      "text/plain": [
       " [1] -0.6659866  1.3558251  0.1124290  0.5491819 -0.3881514  0.3640652\n",
       " [7]  1.9966745 -1.2064899 -1.2149298 -0.0726072 -0.5950851"
      ]
     },
     "metadata": {},
     "output_type": "display_data"
    }
   ],
   "source": [
    "y"
   ]
  },
  {
   "cell_type": "markdown",
   "metadata": {},
   "source": [
    "Now that we've isolated the non-missing values of x and put them in y, we can subset y as we please.\n",
    "\n",
    "Recall that the expression `y > 0` will give us a vector of logical values the same length as y, with TRUEs corresponding\n",
    " to values of y that are greater than zero and FALSEs corresponding to values of y that are less than or equal to zero.\n",
    "\n",
    "Let's see what `y[y>0]` returns..."
   ]
  },
  {
   "cell_type": "code",
   "execution_count": 10,
   "metadata": {},
   "outputs": [
    {
     "data": {
      "text/html": [
       "<ol class=list-inline>\n",
       "\t<li>1.35582509380443</li>\n",
       "\t<li>0.112428973243285</li>\n",
       "\t<li>0.549181918310556</li>\n",
       "\t<li>0.364065218613917</li>\n",
       "\t<li>1.99667451227197</li>\n",
       "</ol>\n"
      ],
      "text/latex": [
       "\\begin{enumerate*}\n",
       "\\item 1.35582509380443\n",
       "\\item 0.112428973243285\n",
       "\\item 0.549181918310556\n",
       "\\item 0.364065218613917\n",
       "\\item 1.99667451227197\n",
       "\\end{enumerate*}\n"
      ],
      "text/markdown": [
       "1. 1.35582509380443\n",
       "2. 0.112428973243285\n",
       "3. 0.549181918310556\n",
       "4. 0.364065218613917\n",
       "5. 1.99667451227197\n",
       "\n",
       "\n"
      ],
      "text/plain": [
       "[1] 1.3558251 0.1124290 0.5491819 0.3640652 1.9966745"
      ]
     },
     "metadata": {},
     "output_type": "display_data"
    }
   ],
   "source": [
    "y[y>0]"
   ]
  },
  {
   "cell_type": "markdown",
   "metadata": {},
   "source": [
    "You might wonder why we didn't just start with `x[x > 0]` to isolate the positive elements of `x`. Try that now to see why."
   ]
  },
  {
   "cell_type": "code",
   "execution_count": 12,
   "metadata": {},
   "outputs": [
    {
     "data": {
      "text/html": [
       "<ol class=list-inline>\n",
       "\t<li>&lt;NA&gt;</li>\n",
       "\t<li>&lt;NA&gt;</li>\n",
       "\t<li>&lt;NA&gt;</li>\n",
       "\t<li>&lt;NA&gt;</li>\n",
       "\t<li>1.35582509380443</li>\n",
       "\t<li>&lt;NA&gt;</li>\n",
       "\t<li>0.112428973243285</li>\n",
       "\t<li>0.549181918310556</li>\n",
       "\t<li>0.364065218613917</li>\n",
       "\t<li>&lt;NA&gt;</li>\n",
       "\t<li>1.99667451227197</li>\n",
       "\t<li>&lt;NA&gt;</li>\n",
       "\t<li>&lt;NA&gt;</li>\n",
       "\t<li>&lt;NA&gt;</li>\n",
       "</ol>\n"
      ],
      "text/latex": [
       "\\begin{enumerate*}\n",
       "\\item <NA>\n",
       "\\item <NA>\n",
       "\\item <NA>\n",
       "\\item <NA>\n",
       "\\item 1.35582509380443\n",
       "\\item <NA>\n",
       "\\item 0.112428973243285\n",
       "\\item 0.549181918310556\n",
       "\\item 0.364065218613917\n",
       "\\item <NA>\n",
       "\\item 1.99667451227197\n",
       "\\item <NA>\n",
       "\\item <NA>\n",
       "\\item <NA>\n",
       "\\end{enumerate*}\n"
      ],
      "text/markdown": [
       "1. &lt;NA&gt;\n",
       "2. &lt;NA&gt;\n",
       "3. &lt;NA&gt;\n",
       "4. &lt;NA&gt;\n",
       "5. 1.35582509380443\n",
       "6. &lt;NA&gt;\n",
       "7. 0.112428973243285\n",
       "8. 0.549181918310556\n",
       "9. 0.364065218613917\n",
       "10. &lt;NA&gt;\n",
       "11. 1.99667451227197\n",
       "12. &lt;NA&gt;\n",
       "13. &lt;NA&gt;\n",
       "14. &lt;NA&gt;\n",
       "\n",
       "\n"
      ],
      "text/plain": [
       " [1]        NA        NA        NA        NA 1.3558251        NA 0.1124290\n",
       " [8] 0.5491819 0.3640652        NA 1.9966745        NA        NA        NA"
      ]
     },
     "metadata": {},
     "output_type": "display_data"
    }
   ],
   "source": [
    "x[x>0]"
   ]
  },
  {
   "cell_type": "markdown",
   "metadata": {},
   "source": [
    "Since NA is not a value, but rather a placeholder for an unknown quantity, the expression NA > 0 evaluates to NA. Hence\n",
    " we get a bunch of NAs mixed in with our positive numbers when we do this.\n",
    "\n",
    "Combining our knowledge of logical operators with our new knowledge of subsetting, we could do this -- `x[!is.na(x) & x >0]`. Try it out."
   ]
  },
  {
   "cell_type": "code",
   "execution_count": 13,
   "metadata": {},
   "outputs": [
    {
     "data": {
      "text/html": [
       "<ol class=list-inline>\n",
       "\t<li>1.35582509380443</li>\n",
       "\t<li>0.112428973243285</li>\n",
       "\t<li>0.549181918310556</li>\n",
       "\t<li>0.364065218613917</li>\n",
       "\t<li>1.99667451227197</li>\n",
       "</ol>\n"
      ],
      "text/latex": [
       "\\begin{enumerate*}\n",
       "\\item 1.35582509380443\n",
       "\\item 0.112428973243285\n",
       "\\item 0.549181918310556\n",
       "\\item 0.364065218613917\n",
       "\\item 1.99667451227197\n",
       "\\end{enumerate*}\n"
      ],
      "text/markdown": [
       "1. 1.35582509380443\n",
       "2. 0.112428973243285\n",
       "3. 0.549181918310556\n",
       "4. 0.364065218613917\n",
       "5. 1.99667451227197\n",
       "\n",
       "\n"
      ],
      "text/plain": [
       "[1] 1.3558251 0.1124290 0.5491819 0.3640652 1.9966745"
      ]
     },
     "metadata": {},
     "output_type": "display_data"
    }
   ],
   "source": [
    "x[!is.na(x) & x>0]"
   ]
  },
  {
   "cell_type": "markdown",
   "metadata": {},
   "source": [
    "In this case, we request only values of `x` that are both non-missing AND greater than zero.\n",
    "\n",
    " I've already shown you how to subset just the first ten values of `x` using `x[1:10]`. In this case, we're providing a vector\n",
    " of positive integers inside of the square brackets, which tells R to return only the elements of x numbered 1 through 10.\n",
    "\n",
    "\n",
    "Many programming languages use what's called *'zero-based indexing'*, which means that the first element of a vector is\n",
    " considered element 0. R uses 'one-based indexing', which (you guessed it!) means the first element of a vector is\n",
    " considered element 1.\n",
    "\n",
    "Can you figure out how we'd subset the 3rd, 5th, and 7th elements of `x`? Hint -- Use the `c()` function to specify the\n",
    " element numbers as a numeric vector."
   ]
  },
  {
   "cell_type": "code",
   "execution_count": 14,
   "metadata": {},
   "outputs": [
    {
     "data": {
      "text/html": [
       "<ol class=list-inline>\n",
       "\t<li>&lt;NA&gt;</li>\n",
       "\t<li>&lt;NA&gt;</li>\n",
       "\t<li>&lt;NA&gt;</li>\n",
       "</ol>\n"
      ],
      "text/latex": [
       "\\begin{enumerate*}\n",
       "\\item <NA>\n",
       "\\item <NA>\n",
       "\\item <NA>\n",
       "\\end{enumerate*}\n"
      ],
      "text/markdown": [
       "1. &lt;NA&gt;\n",
       "2. &lt;NA&gt;\n",
       "3. &lt;NA&gt;\n",
       "\n",
       "\n"
      ],
      "text/plain": [
       "[1] NA NA NA"
      ]
     },
     "metadata": {},
     "output_type": "display_data"
    }
   ],
   "source": [
    "x[c(3,5,7)]"
   ]
  },
  {
   "cell_type": "markdown",
   "metadata": {},
   "source": [
    "It's important that when using integer vectors to subset our vector x, we stick with the set of indexes {1, 2, ..., 40}\n",
    " since x only has 40 elements. What happens if we ask for the zeroth element of x (i.e. x[0])? Give it a try.\n"
   ]
  },
  {
   "cell_type": "code",
   "execution_count": 15,
   "metadata": {},
   "outputs": [
    {
     "data": {
      "text/html": [],
      "text/latex": [],
      "text/markdown": [],
      "text/plain": [
       "numeric(0)"
      ]
     },
     "metadata": {},
     "output_type": "display_data"
    }
   ],
   "source": [
    "x[0]"
   ]
  },
  {
   "cell_type": "markdown",
   "metadata": {},
   "source": [
    "As you might expect, we get nothing useful. Unfortunately, R doesn't prevent us from doing this. What if we ask for the\n",
    " 3000th element of x? Try it out."
   ]
  },
  {
   "cell_type": "code",
   "execution_count": 16,
   "metadata": {},
   "outputs": [
    {
     "data": {
      "text/html": [
       "&lt;NA&gt;"
      ],
      "text/latex": [
       "<NA>"
      ],
      "text/markdown": [
       "&lt;NA&gt;"
      ],
      "text/plain": [
       "[1] NA"
      ]
     },
     "metadata": {},
     "output_type": "display_data"
    }
   ],
   "source": [
    "x[3000]"
   ]
  },
  {
   "cell_type": "markdown",
   "metadata": {},
   "source": [
    "Again, nothing useful, but R doesn't prevent us from asking for it. This should be a cautionary tale. You should always\n",
    " make sure that what you are asking for is within the bounds of the vector you're working with.\n",
    "\n",
    "What if we're interested in all elements of `x` EXCEPT the 2nd and 10th? It would be pretty tedious to construct a vector\n",
    " containing all numbers 1 through 40 EXCEPT 2 and 10.\n",
    "\n",
    "Luckily, R accepts negative integer indexes. Whereas `x[c(2, 10)]` gives us ONLY the 2nd and 10th elements of `x`, `x[c(-2, -10)]` gives us all elements of `x` EXCEPT for the 2nd and 10 elements.  Try `x[c(-2, -10)]` now to see this."
   ]
  },
  {
   "cell_type": "code",
   "execution_count": 18,
   "metadata": {},
   "outputs": [
    {
     "data": {
      "text/html": [
       "<ol class=list-inline>\n",
       "\t<li>&lt;NA&gt;</li>\n",
       "\t<li>&lt;NA&gt;</li>\n",
       "\t<li>-0.665986578606803</li>\n",
       "\t<li>&lt;NA&gt;</li>\n",
       "\t<li>1.35582509380443</li>\n",
       "\t<li>&lt;NA&gt;</li>\n",
       "\t<li>0.112428973243285</li>\n",
       "\t<li>0.549181918310556</li>\n",
       "\t<li>0.364065218613917</li>\n",
       "\t<li>&lt;NA&gt;</li>\n",
       "\t<li>1.99667451227197</li>\n",
       "\t<li>-1.20648994465164</li>\n",
       "\t<li>&lt;NA&gt;</li>\n",
       "\t<li>-1.21492976945925</li>\n",
       "\t<li>&lt;NA&gt;</li>\n",
       "\t<li>-0.072607202413115</li>\n",
       "\t<li>-0.59508511713364</li>\n",
       "\t<li>&lt;NA&gt;</li>\n",
       "</ol>\n"
      ],
      "text/latex": [
       "\\begin{enumerate*}\n",
       "\\item <NA>\n",
       "\\item <NA>\n",
       "\\item -0.665986578606803\n",
       "\\item <NA>\n",
       "\\item 1.35582509380443\n",
       "\\item <NA>\n",
       "\\item 0.112428973243285\n",
       "\\item 0.549181918310556\n",
       "\\item 0.364065218613917\n",
       "\\item <NA>\n",
       "\\item 1.99667451227197\n",
       "\\item -1.20648994465164\n",
       "\\item <NA>\n",
       "\\item -1.21492976945925\n",
       "\\item <NA>\n",
       "\\item -0.072607202413115\n",
       "\\item -0.59508511713364\n",
       "\\item <NA>\n",
       "\\end{enumerate*}\n"
      ],
      "text/markdown": [
       "1. &lt;NA&gt;\n",
       "2. &lt;NA&gt;\n",
       "3. -0.665986578606803\n",
       "4. &lt;NA&gt;\n",
       "5. 1.35582509380443\n",
       "6. &lt;NA&gt;\n",
       "7. 0.112428973243285\n",
       "8. 0.549181918310556\n",
       "9. 0.364065218613917\n",
       "10. &lt;NA&gt;\n",
       "11. 1.99667451227197\n",
       "12. -1.20648994465164\n",
       "13. &lt;NA&gt;\n",
       "14. -1.21492976945925\n",
       "15. &lt;NA&gt;\n",
       "16. -0.072607202413115\n",
       "17. -0.59508511713364\n",
       "18. &lt;NA&gt;\n",
       "\n",
       "\n"
      ],
      "text/plain": [
       " [1]         NA         NA -0.6659866         NA  1.3558251         NA\n",
       " [7]  0.1124290  0.5491819  0.3640652         NA  1.9966745 -1.2064899\n",
       "[13]         NA -1.2149298         NA -0.0726072 -0.5950851         NA"
      ]
     },
     "metadata": {},
     "output_type": "display_data"
    },
    {
     "data": {
      "text/html": [
       "<ol class=list-inline>\n",
       "\t<li>&lt;NA&gt;</li>\n",
       "\t<li>&lt;NA&gt;</li>\n",
       "\t<li>-0.665986578606803</li>\n",
       "\t<li>&lt;NA&gt;</li>\n",
       "\t<li>1.35582509380443</li>\n",
       "\t<li>&lt;NA&gt;</li>\n",
       "\t<li>0.112428973243285</li>\n",
       "\t<li>0.549181918310556</li>\n",
       "\t<li>0.364065218613917</li>\n",
       "\t<li>&lt;NA&gt;</li>\n",
       "\t<li>1.99667451227197</li>\n",
       "\t<li>-1.20648994465164</li>\n",
       "\t<li>&lt;NA&gt;</li>\n",
       "\t<li>-1.21492976945925</li>\n",
       "\t<li>&lt;NA&gt;</li>\n",
       "\t<li>-0.072607202413115</li>\n",
       "\t<li>-0.59508511713364</li>\n",
       "\t<li>&lt;NA&gt;</li>\n",
       "</ol>\n"
      ],
      "text/latex": [
       "\\begin{enumerate*}\n",
       "\\item <NA>\n",
       "\\item <NA>\n",
       "\\item -0.665986578606803\n",
       "\\item <NA>\n",
       "\\item 1.35582509380443\n",
       "\\item <NA>\n",
       "\\item 0.112428973243285\n",
       "\\item 0.549181918310556\n",
       "\\item 0.364065218613917\n",
       "\\item <NA>\n",
       "\\item 1.99667451227197\n",
       "\\item -1.20648994465164\n",
       "\\item <NA>\n",
       "\\item -1.21492976945925\n",
       "\\item <NA>\n",
       "\\item -0.072607202413115\n",
       "\\item -0.59508511713364\n",
       "\\item <NA>\n",
       "\\end{enumerate*}\n"
      ],
      "text/markdown": [
       "1. &lt;NA&gt;\n",
       "2. &lt;NA&gt;\n",
       "3. -0.665986578606803\n",
       "4. &lt;NA&gt;\n",
       "5. 1.35582509380443\n",
       "6. &lt;NA&gt;\n",
       "7. 0.112428973243285\n",
       "8. 0.549181918310556\n",
       "9. 0.364065218613917\n",
       "10. &lt;NA&gt;\n",
       "11. 1.99667451227197\n",
       "12. -1.20648994465164\n",
       "13. &lt;NA&gt;\n",
       "14. -1.21492976945925\n",
       "15. &lt;NA&gt;\n",
       "16. -0.072607202413115\n",
       "17. -0.59508511713364\n",
       "18. &lt;NA&gt;\n",
       "\n",
       "\n"
      ],
      "text/plain": [
       " [1]         NA         NA -0.6659866         NA  1.3558251         NA\n",
       " [7]  0.1124290  0.5491819  0.3640652         NA  1.9966745 -1.2064899\n",
       "[13]         NA -1.2149298         NA -0.0726072 -0.5950851         NA"
      ]
     },
     "metadata": {},
     "output_type": "display_data"
    }
   ],
   "source": [
    "x[c(-2,-10)]\n",
    "\n",
    "#shortened way for multiple negative numbers\n",
    "\n",
    "x[-c(2,10)]"
   ]
  },
  {
   "cell_type": "markdown",
   "metadata": {},
   "source": [
    "So far, we've covered three types of index vectors -- *logical, positive integer, and negative integer*. The only remaining\n",
    " type requires us to introduce the concept of *'named'* elements.\n",
    "\n",
    "Create a numeric vector with three named elements using `vect <- c(foo = 11, bar = 2, norf = NA)`.\n"
   ]
  },
  {
   "cell_type": "code",
   "execution_count": 19,
   "metadata": {},
   "outputs": [],
   "source": [
    "vect <- c(foo = 11, bar = 2, norf = NA)"
   ]
  },
  {
   "cell_type": "markdown",
   "metadata": {},
   "source": [
    "When we print vect to the console, you'll see that each element has a name. Try it out."
   ]
  },
  {
   "cell_type": "code",
   "execution_count": 20,
   "metadata": {},
   "outputs": [
    {
     "data": {
      "text/html": [
       "<dl class=dl-horizontal>\n",
       "\t<dt>foo</dt>\n",
       "\t\t<dd>11</dd>\n",
       "\t<dt>bar</dt>\n",
       "\t\t<dd>2</dd>\n",
       "\t<dt>norf</dt>\n",
       "\t\t<dd>&lt;NA&gt;</dd>\n",
       "</dl>\n"
      ],
      "text/latex": [
       "\\begin{description*}\n",
       "\\item[foo] 11\n",
       "\\item[bar] 2\n",
       "\\item[norf] <NA>\n",
       "\\end{description*}\n"
      ],
      "text/markdown": [
       "foo\n",
       ":   11bar\n",
       ":   2norf\n",
       ":   &lt;NA&gt;\n",
       "\n"
      ],
      "text/plain": [
       " foo  bar norf \n",
       "  11    2   NA "
      ]
     },
     "metadata": {},
     "output_type": "display_data"
    }
   ],
   "source": [
    "vect"
   ]
  },
  {
   "cell_type": "markdown",
   "metadata": {},
   "source": [
    "We can also get the names of vect by passing vect as an argument to the `names()` function. Give that a try."
   ]
  },
  {
   "cell_type": "code",
   "execution_count": 21,
   "metadata": {},
   "outputs": [
    {
     "data": {
      "text/html": [
       "<ol class=list-inline>\n",
       "\t<li>'foo'</li>\n",
       "\t<li>'bar'</li>\n",
       "\t<li>'norf'</li>\n",
       "</ol>\n"
      ],
      "text/latex": [
       "\\begin{enumerate*}\n",
       "\\item 'foo'\n",
       "\\item 'bar'\n",
       "\\item 'norf'\n",
       "\\end{enumerate*}\n"
      ],
      "text/markdown": [
       "1. 'foo'\n",
       "2. 'bar'\n",
       "3. 'norf'\n",
       "\n",
       "\n"
      ],
      "text/plain": [
       "[1] \"foo\"  \"bar\"  \"norf\""
      ]
     },
     "metadata": {},
     "output_type": "display_data"
    }
   ],
   "source": [
    "names(vect)"
   ]
  },
  {
   "cell_type": "markdown",
   "metadata": {},
   "source": [
    "Alternatively, we can create an unnamed vector vect2 with `c(11, 2, NA)`. Do that now."
   ]
  },
  {
   "cell_type": "code",
   "execution_count": 22,
   "metadata": {},
   "outputs": [],
   "source": [
    "vect2 <- c(11,2,NA)"
   ]
  },
  {
   "cell_type": "markdown",
   "metadata": {},
   "source": [
    "Then, we can add the `names` attribute to vect2 after the fact with names(vect2) <- c(\"foo\", \"bar\", \"norf\"). Go ahead."
   ]
  },
  {
   "cell_type": "code",
   "execution_count": 24,
   "metadata": {},
   "outputs": [],
   "source": [
    "names(vect2) <- c(\"foo\",\"bar\",\"norf\")"
   ]
  },
  {
   "cell_type": "markdown",
   "metadata": {},
   "source": [
    "Now, let's check that vect and vect2 are the same by passing them as arguments to the `identical()` function."
   ]
  },
  {
   "cell_type": "code",
   "execution_count": 25,
   "metadata": {},
   "outputs": [
    {
     "data": {
      "text/html": [
       "TRUE"
      ],
      "text/latex": [
       "TRUE"
      ],
      "text/markdown": [
       "TRUE"
      ],
      "text/plain": [
       "[1] TRUE"
      ]
     },
     "metadata": {},
     "output_type": "display_data"
    }
   ],
   "source": [
    "identical(vect,vect2)"
   ]
  },
  {
   "cell_type": "markdown",
   "metadata": {},
   "source": [
    "Indeed, vect and vect2 are identical named vectors.\n",
    "\n",
    " Now, back to the matter of subsetting a vector by named elements. Which of the following commands do you think would give\n",
    " us the second element of vect?\n",
    "\n",
    "1. `vect[\"bar\"]`\n",
    "2. `vect[bar]`\n",
    "3. `vect[\"2\"]`"
   ]
  },
  {
   "cell_type": "code",
   "execution_count": 26,
   "metadata": {},
   "outputs": [
    {
     "data": {
      "text/html": [
       "<strong>bar:</strong> 2"
      ],
      "text/latex": [
       "\\textbf{bar:} 2"
      ],
      "text/markdown": [
       "**bar:** 2"
      ],
      "text/plain": [
       "bar \n",
       "  2 "
      ]
     },
     "metadata": {},
     "output_type": "display_data"
    }
   ],
   "source": [
    "vect[\"bar\"]"
   ]
  },
  {
   "cell_type": "markdown",
   "metadata": {},
   "source": [
    "Likewise, we can specify a vector of names with `vect[c(\"foo\", \"bar\")]`. Try it out."
   ]
  },
  {
   "cell_type": "code",
   "execution_count": 27,
   "metadata": {},
   "outputs": [
    {
     "data": {
      "text/html": [
       "<dl class=dl-horizontal>\n",
       "\t<dt>foo</dt>\n",
       "\t\t<dd>11</dd>\n",
       "\t<dt>bar</dt>\n",
       "\t\t<dd>2</dd>\n",
       "</dl>\n"
      ],
      "text/latex": [
       "\\begin{description*}\n",
       "\\item[foo] 11\n",
       "\\item[bar] 2\n",
       "\\end{description*}\n"
      ],
      "text/markdown": [
       "foo\n",
       ":   11bar\n",
       ":   2\n",
       "\n"
      ],
      "text/plain": [
       "foo bar \n",
       " 11   2 "
      ]
     },
     "metadata": {},
     "output_type": "display_data"
    }
   ],
   "source": [
    "vect[c(\"foo\",\"bar\")]"
   ]
  },
  {
   "cell_type": "markdown",
   "metadata": {},
   "source": [
    " Now you know all four methods of subsetting data from vectors. Different approaches are best in different scenarios and\n",
    " when in doubt, try it out!"
   ]
  },
  {
   "cell_type": "markdown",
   "metadata": {},
   "source": [
    "**Source: [Swirlstats](swirlstats.com/students.html)**"
   ]
  }
 ],
 "metadata": {
  "kernelspec": {
   "display_name": "R",
   "language": "R",
   "name": "ir"
  },
  "language_info": {
   "codemirror_mode": "r",
   "file_extension": ".r",
   "mimetype": "text/x-r-source",
   "name": "R",
   "pygments_lexer": "r",
   "version": "3.6.1"
  }
 },
 "nbformat": 4,
 "nbformat_minor": 4
}
