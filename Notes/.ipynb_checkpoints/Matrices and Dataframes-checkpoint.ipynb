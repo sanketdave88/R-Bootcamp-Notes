{
 "cells": [
  {
   "cell_type": "markdown",
   "metadata": {},
   "source": [
    "# Matrices and Dataframes\n",
    "**Author : Sanket Dave**\n",
    "\n",
    "---\n",
    "***In this lesson, we'll cover matrices and data frames. Both represent 'rectangular' data types, meaning that they are used\n",
    " to store tabular data, with rows and columns.***\n",
    "\n",
    "***The main difference, as you'll see, is that matrices can only contain a single class of data, while data frames can\n",
    " consist of many different classes of data.***"
   ]
  },
  {
   "cell_type": "markdown",
   "metadata": {},
   "source": [
    "Let's create a vector containing the numbers 1 through 20 using the `:` operator. Store the result in a variable called\n",
    " my_vect."
   ]
  },
  {
   "cell_type": "code",
   "execution_count": 1,
   "metadata": {},
   "outputs": [],
   "source": [
    "my_vect <- 1:20"
   ]
  },
  {
   "cell_type": "code",
   "execution_count": 2,
   "metadata": {},
   "outputs": [
    {
     "data": {
      "text/html": [
       "<ol class=list-inline>\n",
       "\t<li>1</li>\n",
       "\t<li>2</li>\n",
       "\t<li>3</li>\n",
       "\t<li>4</li>\n",
       "\t<li>5</li>\n",
       "\t<li>6</li>\n",
       "\t<li>7</li>\n",
       "\t<li>8</li>\n",
       "\t<li>9</li>\n",
       "\t<li>10</li>\n",
       "\t<li>11</li>\n",
       "\t<li>12</li>\n",
       "\t<li>13</li>\n",
       "\t<li>14</li>\n",
       "\t<li>15</li>\n",
       "\t<li>16</li>\n",
       "\t<li>17</li>\n",
       "\t<li>18</li>\n",
       "\t<li>19</li>\n",
       "\t<li>20</li>\n",
       "</ol>\n"
      ],
      "text/latex": [
       "\\begin{enumerate*}\n",
       "\\item 1\n",
       "\\item 2\n",
       "\\item 3\n",
       "\\item 4\n",
       "\\item 5\n",
       "\\item 6\n",
       "\\item 7\n",
       "\\item 8\n",
       "\\item 9\n",
       "\\item 10\n",
       "\\item 11\n",
       "\\item 12\n",
       "\\item 13\n",
       "\\item 14\n",
       "\\item 15\n",
       "\\item 16\n",
       "\\item 17\n",
       "\\item 18\n",
       "\\item 19\n",
       "\\item 20\n",
       "\\end{enumerate*}\n"
      ],
      "text/markdown": [
       "1. 1\n",
       "2. 2\n",
       "3. 3\n",
       "4. 4\n",
       "5. 5\n",
       "6. 6\n",
       "7. 7\n",
       "8. 8\n",
       "9. 9\n",
       "10. 10\n",
       "11. 11\n",
       "12. 12\n",
       "13. 13\n",
       "14. 14\n",
       "15. 15\n",
       "16. 16\n",
       "17. 17\n",
       "18. 18\n",
       "19. 19\n",
       "20. 20\n",
       "\n",
       "\n"
      ],
      "text/plain": [
       " [1]  1  2  3  4  5  6  7  8  9 10 11 12 13 14 15 16 17 18 19 20"
      ]
     },
     "metadata": {},
     "output_type": "display_data"
    }
   ],
   "source": [
    "my_vect"
   ]
  },
  {
   "cell_type": "markdown",
   "metadata": {},
   "source": [
    "Now, lets check the dimension of `my_vect` with `dim()` function"
   ]
  },
  {
   "cell_type": "code",
   "execution_count": 3,
   "metadata": {},
   "outputs": [
    {
     "data": {
      "text/plain": [
       "NULL"
      ]
     },
     "metadata": {},
     "output_type": "display_data"
    }
   ],
   "source": [
    "dim(my_vect)"
   ]
  },
  {
   "cell_type": "markdown",
   "metadata": {},
   "source": [
    "It returned NULL value because a vector is a vector it has no dimensions. \n",
    "\n",
    "What it do have is `length()` let's check it."
   ]
  },
  {
   "cell_type": "code",
   "execution_count": 4,
   "metadata": {},
   "outputs": [
    {
     "data": {
      "text/html": [
       "20"
      ],
      "text/latex": [
       "20"
      ],
      "text/markdown": [
       "20"
      ],
      "text/plain": [
       "[1] 20"
      ]
     },
     "metadata": {},
     "output_type": "display_data"
    }
   ],
   "source": [
    "length(my_vect)"
   ]
  },
  {
   "cell_type": "markdown",
   "metadata": {},
   "source": [
    "Ah! That's what we wanted. But, what happens if we give my_vect a `dim` attribute? Let's give it a try. \n"
   ]
  },
  {
   "cell_type": "code",
   "execution_count": 6,
   "metadata": {},
   "outputs": [],
   "source": [
    "dim(my_vect) <- c(4, 5)"
   ]
  },
  {
   "cell_type": "markdown",
   "metadata": {},
   "source": [
    "It's okay if that last command seemed a little strange to you. It should! The dim() function allows you to get OR set the\n",
    "`dim` attribute for an R object. In this case, we assigned the value c(4, 5) to the `dim` attribute of my_vect.\n",
    "\n",
    "Use dim(my_vect) to confirm that we've set the `dim` attribute correctly."
   ]
  },
  {
   "cell_type": "code",
   "execution_count": 9,
   "metadata": {},
   "outputs": [
    {
     "data": {
      "text/html": [
       "<ol class=list-inline>\n",
       "\t<li>4</li>\n",
       "\t<li>5</li>\n",
       "</ol>\n"
      ],
      "text/latex": [
       "\\begin{enumerate*}\n",
       "\\item 4\n",
       "\\item 5\n",
       "\\end{enumerate*}\n"
      ],
      "text/markdown": [
       "1. 4\n",
       "2. 5\n",
       "\n",
       "\n"
      ],
      "text/plain": [
       "[1] 4 5"
      ]
     },
     "metadata": {},
     "output_type": "display_data"
    }
   ],
   "source": [
    "dim(my_vect)"
   ]
  },
  {
   "cell_type": "markdown",
   "metadata": {},
   "source": [
    "Another way to see this is by calling the `attributes()` function on my_vect. Try it now."
   ]
  },
  {
   "cell_type": "code",
   "execution_count": 10,
   "metadata": {},
   "outputs": [
    {
     "data": {
      "text/html": [
       "<strong>$dim</strong> = <ol class=list-inline>\n",
       "\t<li>4</li>\n",
       "\t<li>5</li>\n",
       "</ol>\n"
      ],
      "text/latex": [
       "\\textbf{\\$dim} = \\begin{enumerate*}\n",
       "\\item 4\n",
       "\\item 5\n",
       "\\end{enumerate*}\n"
      ],
      "text/markdown": [
       "**$dim** = 1. 4\n",
       "2. 5\n",
       "\n",
       "\n"
      ],
      "text/plain": [
       "$dim\n",
       "[1] 4 5\n"
      ]
     },
     "metadata": {},
     "output_type": "display_data"
    }
   ],
   "source": [
    "attributes(my_vect)"
   ]
  },
  {
   "cell_type": "markdown",
   "metadata": {},
   "source": [
    "Just like in math class, when dealing with a 2-dimensional object (think rectangular table), the first number is the\n",
    " number of rows and the second is the number of columns. Therefore, we just gave my_vect 4 rows and 5 columns.\n",
    "\n",
    "But, wait! That doesn't sound like a vector any more. Well, it's not. Now it's a matrix. View the contents of my_vect\n",
    " now to see what it looks like."
   ]
  },
  {
   "cell_type": "code",
   "execution_count": 13,
   "metadata": {},
   "outputs": [
    {
     "data": {
      "text/html": [
       "<table>\n",
       "<tbody>\n",
       "\t<tr><td>1 </td><td>5 </td><td> 9</td><td>13</td><td>17</td></tr>\n",
       "\t<tr><td>2 </td><td>6 </td><td>10</td><td>14</td><td>18</td></tr>\n",
       "\t<tr><td>3 </td><td>7 </td><td>11</td><td>15</td><td>19</td></tr>\n",
       "\t<tr><td>4 </td><td>8 </td><td>12</td><td>16</td><td>20</td></tr>\n",
       "</tbody>\n",
       "</table>\n"
      ],
      "text/latex": [
       "\\begin{tabular}{lllll}\n",
       "\t 1  & 5  &  9 & 13 & 17\\\\\n",
       "\t 2  & 6  & 10 & 14 & 18\\\\\n",
       "\t 3  & 7  & 11 & 15 & 19\\\\\n",
       "\t 4  & 8  & 12 & 16 & 20\\\\\n",
       "\\end{tabular}\n"
      ],
      "text/markdown": [
       "\n",
       "| 1  | 5  |  9 | 13 | 17 |\n",
       "| 2  | 6  | 10 | 14 | 18 |\n",
       "| 3  | 7  | 11 | 15 | 19 |\n",
       "| 4  | 8  | 12 | 16 | 20 |\n",
       "\n"
      ],
      "text/plain": [
       "     [,1] [,2] [,3] [,4] [,5]\n",
       "[1,] 1    5     9   13   17  \n",
       "[2,] 2    6    10   14   18  \n",
       "[3,] 3    7    11   15   19  \n",
       "[4,] 4    8    12   16   20  "
      ]
     },
     "metadata": {},
     "output_type": "display_data"
    }
   ],
   "source": [
    "my_vect"
   ]
  },
  {
   "cell_type": "markdown",
   "metadata": {},
   "source": [
    "Now, let's confirm it's actually a matrix by using the class() function. Type class(my_vect) to see what I mean."
   ]
  },
  {
   "cell_type": "code",
   "execution_count": 14,
   "metadata": {},
   "outputs": [
    {
     "data": {
      "text/html": [
       "'matrix'"
      ],
      "text/latex": [
       "'matrix'"
      ],
      "text/markdown": [
       "'matrix'"
      ],
      "text/plain": [
       "[1] \"matrix\""
      ]
     },
     "metadata": {},
     "output_type": "display_data"
    }
   ],
   "source": [
    "class(my_vect)"
   ]
  },
  {
   "cell_type": "markdown",
   "metadata": {},
   "source": [
    "Sure enough, my_vect is now a matrix. We should store it in a new variable that helps us remember what it is. Store the\n",
    " value of my_vect in a new variable called my_matrix."
   ]
  },
  {
   "cell_type": "code",
   "execution_count": 15,
   "metadata": {},
   "outputs": [],
   "source": [
    "my_matrix <- my_vect"
   ]
  },
  {
   "cell_type": "markdown",
   "metadata": {},
   "source": [
    "Bring up the help file for the matrix() function now using the `?` function.\n"
   ]
  },
  {
   "cell_type": "code",
   "execution_count": 16,
   "metadata": {},
   "outputs": [],
   "source": [
    "?matrix"
   ]
  },
  {
   "cell_type": "markdown",
   "metadata": {},
   "source": [
    "Now, look at the documentation for the matrix function and see if you can figure out how to create a matrix containing\n",
    " the same numbers (1-20) and dimensions (4 rows, 5 columns) by calling the matrix() function. Store the result in a\n",
    " variable called my_matrix2."
   ]
  },
  {
   "cell_type": "code",
   "execution_count": 17,
   "metadata": {},
   "outputs": [],
   "source": [
    "my_matrix2 <- matrix(1:20,4,5)"
   ]
  },
  {
   "cell_type": "markdown",
   "metadata": {},
   "source": [
    "Finally, let's confirm that my_matrix and my_matrix2 are actually identical. The identical() function will tell us if its\n",
    " first two arguments are the same. Try it out."
   ]
  },
  {
   "cell_type": "code",
   "execution_count": 18,
   "metadata": {},
   "outputs": [
    {
     "data": {
      "text/html": [
       "TRUE"
      ],
      "text/latex": [
       "TRUE"
      ],
      "text/markdown": [
       "TRUE"
      ],
      "text/plain": [
       "[1] TRUE"
      ]
     },
     "metadata": {},
     "output_type": "display_data"
    }
   ],
   "source": [
    "identical(my_matrix,my_matrix2)"
   ]
  },
  {
   "cell_type": "markdown",
   "metadata": {},
   "source": [
    "Now, imagine that the numbers in our table represent some measurements from a clinical experiment, where each row\n",
    " represents one patient and each column represents one variable for which measurements were taken.\n",
    "\n",
    "We may want to label the rows, so that we know which numbers belong to each patient in the experiment. One way to do this\n",
    " is to add a column to the matrix, which contains the names of all four people.\n",
    "\n",
    "Let's start by creating a character vector containing the names of our patients -- Bill, Gina, Kelly, and Sean. Remember\n",
    " that double quotes tell R that something is a character string. Store the result in a variable called patients."
   ]
  },
  {
   "cell_type": "code",
   "execution_count": 19,
   "metadata": {},
   "outputs": [],
   "source": [
    " patients <- c(\"Bill\",\"Gina\",\"Kelly\",\"Sean\")"
   ]
  },
  {
   "cell_type": "markdown",
   "metadata": {},
   "source": [
    "Now we'll use the cbind() function to 'combine columns'. Don't worry about storing the result in a new variable. Just\n",
    " call cbind() with two arguments -- the patients vector and my_matrix."
   ]
  },
  {
   "cell_type": "code",
   "execution_count": 20,
   "metadata": {},
   "outputs": [
    {
     "data": {
      "text/html": [
       "<table>\n",
       "<thead><tr><th scope=col>patients</th><th scope=col></th><th scope=col></th><th scope=col></th><th scope=col></th><th scope=col></th></tr></thead>\n",
       "<tbody>\n",
       "\t<tr><td>Bill </td><td>1    </td><td>5    </td><td>9    </td><td>13   </td><td>17   </td></tr>\n",
       "\t<tr><td>Gina </td><td>2    </td><td>6    </td><td>10   </td><td>14   </td><td>18   </td></tr>\n",
       "\t<tr><td>Kelly</td><td>3    </td><td>7    </td><td>11   </td><td>15   </td><td>19   </td></tr>\n",
       "\t<tr><td>Sean </td><td>4    </td><td>8    </td><td>12   </td><td>16   </td><td>20   </td></tr>\n",
       "</tbody>\n",
       "</table>\n"
      ],
      "text/latex": [
       "\\begin{tabular}{llllll}\n",
       " patients &  &  &  &  & \\\\\n",
       "\\hline\n",
       "\t Bill  & 1     & 5     & 9     & 13    & 17   \\\\\n",
       "\t Gina  & 2     & 6     & 10    & 14    & 18   \\\\\n",
       "\t Kelly & 3     & 7     & 11    & 15    & 19   \\\\\n",
       "\t Sean  & 4     & 8     & 12    & 16    & 20   \\\\\n",
       "\\end{tabular}\n"
      ],
      "text/markdown": [
       "\n",
       "| patients |  |  |  |  |  |\n",
       "|---|---|---|---|---|---|\n",
       "| Bill  | 1     | 5     | 9     | 13    | 17    |\n",
       "| Gina  | 2     | 6     | 10    | 14    | 18    |\n",
       "| Kelly | 3     | 7     | 11    | 15    | 19    |\n",
       "| Sean  | 4     | 8     | 12    | 16    | 20    |\n",
       "\n"
      ],
      "text/plain": [
       "     patients             \n",
       "[1,] Bill     1 5 9  13 17\n",
       "[2,] Gina     2 6 10 14 18\n",
       "[3,] Kelly    3 7 11 15 19\n",
       "[4,] Sean     4 8 12 16 20"
      ]
     },
     "metadata": {},
     "output_type": "display_data"
    }
   ],
   "source": [
    "cbind(patients,my_matrix)"
   ]
  },
  {
   "cell_type": "markdown",
   "metadata": {},
   "source": [
    "Something is fishy about our result! It appears that combining the character vector with our matrix of numbers caused\n",
    " everything to be enclosed in double quotes. This means we're left with a matrix of character strings, which is no good.\n",
    "\n",
    "If you remember back to the beginning of this lesson, I told you that matrices can only contain ONE class of data.\n",
    " Therefore, when we tried to combine a character vector with a numeric matrix, R was forced to 'coerce' the numbers to\n",
    " characters, hence the double quotes.\n",
    "\n",
    "This is called 'implicit coercion', because we didn't ask for it. It just happened. But why didn't R just convert the\n",
    " names of our patients to numbers? I'll let you ponder that question on your own.\n",
    "\n",
    "So, we're still left with the question of how to include the names of our patients in the table without destroying the\n",
    " integrity of our numeric data. Try the following -- my_data <- data.frame(patients, my_matrix)"
   ]
  },
  {
   "cell_type": "code",
   "execution_count": 21,
   "metadata": {},
   "outputs": [],
   "source": [
    "my_data <- data.frame(patients,my_matrix)"
   ]
  },
  {
   "cell_type": "code",
   "execution_count": 22,
   "metadata": {},
   "outputs": [
    {
     "data": {
      "text/html": [
       "<table>\n",
       "<thead><tr><th scope=col>patients</th><th scope=col>X1</th><th scope=col>X2</th><th scope=col>X3</th><th scope=col>X4</th><th scope=col>X5</th></tr></thead>\n",
       "<tbody>\n",
       "\t<tr><td>Bill </td><td>1    </td><td>5    </td><td> 9   </td><td>13   </td><td>17   </td></tr>\n",
       "\t<tr><td>Gina </td><td>2    </td><td>6    </td><td>10   </td><td>14   </td><td>18   </td></tr>\n",
       "\t<tr><td>Kelly</td><td>3    </td><td>7    </td><td>11   </td><td>15   </td><td>19   </td></tr>\n",
       "\t<tr><td>Sean </td><td>4    </td><td>8    </td><td>12   </td><td>16   </td><td>20   </td></tr>\n",
       "</tbody>\n",
       "</table>\n"
      ],
      "text/latex": [
       "\\begin{tabular}{r|llllll}\n",
       " patients & X1 & X2 & X3 & X4 & X5\\\\\n",
       "\\hline\n",
       "\t Bill  & 1     & 5     &  9    & 13    & 17   \\\\\n",
       "\t Gina  & 2     & 6     & 10    & 14    & 18   \\\\\n",
       "\t Kelly & 3     & 7     & 11    & 15    & 19   \\\\\n",
       "\t Sean  & 4     & 8     & 12    & 16    & 20   \\\\\n",
       "\\end{tabular}\n"
      ],
      "text/markdown": [
       "\n",
       "| patients | X1 | X2 | X3 | X4 | X5 |\n",
       "|---|---|---|---|---|---|\n",
       "| Bill  | 1     | 5     |  9    | 13    | 17    |\n",
       "| Gina  | 2     | 6     | 10    | 14    | 18    |\n",
       "| Kelly | 3     | 7     | 11    | 15    | 19    |\n",
       "| Sean  | 4     | 8     | 12    | 16    | 20    |\n",
       "\n"
      ],
      "text/plain": [
       "  patients X1 X2 X3 X4 X5\n",
       "1 Bill     1  5   9 13 17\n",
       "2 Gina     2  6  10 14 18\n",
       "3 Kelly    3  7  11 15 19\n",
       "4 Sean     4  8  12 16 20"
      ]
     },
     "metadata": {},
     "output_type": "display_data"
    }
   ],
   "source": [
    "my_data"
   ]
  },
  {
   "cell_type": "markdown",
   "metadata": {},
   "source": [
    " It looks like the data.frame() function allowed us to store our character vector of names right alongside our matrix of\n",
    " numbers. That's exactly what we were hoping for!\n",
    "\n",
    "Behind the scenes, the data.frame() function takes any number of arguments and returns a single object of class\n",
    " `data.frame` that is composed of the original objects.\n",
    "\n",
    "Let's confirm this by calling the class() function on our newly created data frame.\n"
   ]
  },
  {
   "cell_type": "code",
   "execution_count": 23,
   "metadata": {},
   "outputs": [
    {
     "data": {
      "text/html": [
       "'data.frame'"
      ],
      "text/latex": [
       "'data.frame'"
      ],
      "text/markdown": [
       "'data.frame'"
      ],
      "text/plain": [
       "[1] \"data.frame\""
      ]
     },
     "metadata": {},
     "output_type": "display_data"
    }
   ],
   "source": [
    "class(my_data)"
   ]
  },
  {
   "cell_type": "markdown",
   "metadata": {},
   "source": [
    "It's also possible to assign names to the individual rows and columns of a data frame, which presents another possible\n",
    " way of determining which row of values in our table belongs to each patient.\n",
    "\n",
    "However, since we've already solved that problem, let's solve a different problem by assigning names to the columns of\n",
    " our data frame so that we know what type of measurement each column represents.\n",
    "\n",
    "\n",
    "Since we have six columns (including patient names), we'll need to first create a vector containing one element for each\n",
    " column. Create a character vector called cnames that contains the following values (in order) -- \"patient\", \"age\",\n",
    " \"weight\", \"bp\", \"rating\", \"test\"."
   ]
  },
  {
   "cell_type": "code",
   "execution_count": 24,
   "metadata": {},
   "outputs": [],
   "source": [
    "cnames <- c(\"patient\",\"age\",\"weight\",\"bp\",\"rating\",\"test\")"
   ]
  },
  {
   "cell_type": "markdown",
   "metadata": {},
   "source": [
    "Now, use the colnames() function to set the `colnames` attribute for our data frame. This is similar to the way we used\n",
    " the dim() function earlier in this lesson."
   ]
  },
  {
   "cell_type": "code",
   "execution_count": 25,
   "metadata": {},
   "outputs": [],
   "source": [
    "colnames(my_data) <- cnames"
   ]
  },
  {
   "cell_type": "code",
   "execution_count": 26,
   "metadata": {},
   "outputs": [
    {
     "data": {
      "text/html": [
       "<table>\n",
       "<thead><tr><th scope=col>patient</th><th scope=col>age</th><th scope=col>weight</th><th scope=col>bp</th><th scope=col>rating</th><th scope=col>test</th></tr></thead>\n",
       "<tbody>\n",
       "\t<tr><td>Bill </td><td>1    </td><td>5    </td><td> 9   </td><td>13   </td><td>17   </td></tr>\n",
       "\t<tr><td>Gina </td><td>2    </td><td>6    </td><td>10   </td><td>14   </td><td>18   </td></tr>\n",
       "\t<tr><td>Kelly</td><td>3    </td><td>7    </td><td>11   </td><td>15   </td><td>19   </td></tr>\n",
       "\t<tr><td>Sean </td><td>4    </td><td>8    </td><td>12   </td><td>16   </td><td>20   </td></tr>\n",
       "</tbody>\n",
       "</table>\n"
      ],
      "text/latex": [
       "\\begin{tabular}{r|llllll}\n",
       " patient & age & weight & bp & rating & test\\\\\n",
       "\\hline\n",
       "\t Bill  & 1     & 5     &  9    & 13    & 17   \\\\\n",
       "\t Gina  & 2     & 6     & 10    & 14    & 18   \\\\\n",
       "\t Kelly & 3     & 7     & 11    & 15    & 19   \\\\\n",
       "\t Sean  & 4     & 8     & 12    & 16    & 20   \\\\\n",
       "\\end{tabular}\n"
      ],
      "text/markdown": [
       "\n",
       "| patient | age | weight | bp | rating | test |\n",
       "|---|---|---|---|---|---|\n",
       "| Bill  | 1     | 5     |  9    | 13    | 17    |\n",
       "| Gina  | 2     | 6     | 10    | 14    | 18    |\n",
       "| Kelly | 3     | 7     | 11    | 15    | 19    |\n",
       "| Sean  | 4     | 8     | 12    | 16    | 20    |\n",
       "\n"
      ],
      "text/plain": [
       "  patient age weight bp rating test\n",
       "1 Bill    1   5       9 13     17  \n",
       "2 Gina    2   6      10 14     18  \n",
       "3 Kelly   3   7      11 15     19  \n",
       "4 Sean    4   8      12 16     20  "
      ]
     },
     "metadata": {},
     "output_type": "display_data"
    }
   ],
   "source": [
    "my_data"
   ]
  },
  {
   "cell_type": "markdown",
   "metadata": {},
   "source": [
    "In this lesson, you learned the basics of working with two very important and common data structures -- matrices and data\n",
    " frames. There's much more to learn and we'll be covering more advanced topics, particularly with respect to data frames,\n",
    " in future lessons.\n",
    " \n",
    "**Source: [Swirlstats](swirlstats.com/students.html)**"
   ]
  }
 ],
 "metadata": {
  "kernelspec": {
   "display_name": "R",
   "language": "R",
   "name": "ir"
  },
  "language_info": {
   "codemirror_mode": "r",
   "file_extension": ".r",
   "mimetype": "text/x-r-source",
   "name": "R",
   "pygments_lexer": "r",
   "version": "3.6.1"
  }
 },
 "nbformat": 4,
 "nbformat_minor": 4
}
