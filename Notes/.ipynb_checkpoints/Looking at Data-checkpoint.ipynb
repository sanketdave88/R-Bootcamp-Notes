{
 "cells": [
  {
   "cell_type": "markdown",
   "metadata": {},
   "source": [
    "# Looking at Data\n",
    "**Sanket Dave**\n",
    "\n",
    "---\n",
    " Whenever you're working with a new dataset, the first thing you should do is\n",
    " look at it! \n",
    " - What is the format of the data? \n",
    " - What are the dimensions? \n",
    " - What are the variable names? \n",
    " - How are the variables stored? \n",
    " - Are there missing data? \n",
    " - Are there any flaws in the data?\n",
    "\n",
    "\n",
    " This lesson will teach you how to answer these questions and more using R's\n",
    " built-in functions. We'll be using a dataset constructed from the United\n",
    " States Department of Agriculture's PLANTS Database\n",
    " (http://plants.usda.gov/adv_search.html).\n",
    " \n",
    " ---"
   ]
  },
  {
   "cell_type": "code",
   "execution_count": 2,
   "metadata": {},
   "outputs": [
    {
     "data": {
      "text/html": [
       "'C:/Users/Sanket Dave/Desktop/Data Science/R/R-Bootcamp-Notes/Notes'"
      ],
      "text/latex": [
       "'C:/Users/Sanket Dave/Desktop/Data Science/R/R-Bootcamp-Notes/Notes'"
      ],
      "text/markdown": [
       "'C:/Users/Sanket Dave/Desktop/Data Science/R/R-Bootcamp-Notes/Notes'"
      ],
      "text/plain": [
       "[1] \"C:/Users/Sanket Dave/Desktop/Data Science/R/R-Bootcamp-Notes/Notes\""
      ]
     },
     "metadata": {},
     "output_type": "display_data"
    }
   ],
   "source": [
    "getwd()"
   ]
  },
  {
   "cell_type": "code",
   "execution_count": 3,
   "metadata": {},
   "outputs": [],
   "source": [
    "plants <- read.csv('../Data/plants.csv')"
   ]
  },
  {
   "cell_type": "markdown",
   "metadata": {},
   "source": [
    "Now that we've imported data,  Let's begin by checking the class of the plants variable with class(plants).\n",
    " This will give us a clue as to the overall structure of the data."
   ]
  },
  {
   "cell_type": "code",
   "execution_count": 5,
   "metadata": {},
   "outputs": [
    {
     "data": {
      "text/html": [
       "'data.frame'"
      ],
      "text/latex": [
       "'data.frame'"
      ],
      "text/markdown": [
       "'data.frame'"
      ],
      "text/plain": [
       "[1] \"data.frame\""
      ]
     },
     "metadata": {},
     "output_type": "display_data"
    }
   ],
   "source": [
    "class(plants)"
   ]
  },
  {
   "cell_type": "code",
   "execution_count": 6,
   "metadata": {},
   "outputs": [
    {
     "data": {
      "text/html": [
       "<ol class=list-inline>\n",
       "\t<li>5166</li>\n",
       "\t<li>11</li>\n",
       "</ol>\n"
      ],
      "text/latex": [
       "\\begin{enumerate*}\n",
       "\\item 5166\n",
       "\\item 11\n",
       "\\end{enumerate*}\n"
      ],
      "text/markdown": [
       "1. 5166\n",
       "2. 11\n",
       "\n",
       "\n"
      ],
      "text/plain": [
       "[1] 5166   11"
      ]
     },
     "metadata": {},
     "output_type": "display_data"
    }
   ],
   "source": [
    "dim(plants)"
   ]
  },
  {
   "cell_type": "code",
   "execution_count": 7,
   "metadata": {},
   "outputs": [
    {
     "data": {
      "text/html": [
       "5166"
      ],
      "text/latex": [
       "5166"
      ],
      "text/markdown": [
       "5166"
      ],
      "text/plain": [
       "[1] 5166"
      ]
     },
     "metadata": {},
     "output_type": "display_data"
    }
   ],
   "source": [
    "# returns rows\n",
    "\n",
    "nrow(plants)"
   ]
  },
  {
   "cell_type": "code",
   "execution_count": 8,
   "metadata": {},
   "outputs": [
    {
     "data": {
      "text/html": [
       "11"
      ],
      "text/latex": [
       "11"
      ],
      "text/markdown": [
       "11"
      ],
      "text/plain": [
       "[1] 11"
      ]
     },
     "metadata": {},
     "output_type": "display_data"
    }
   ],
   "source": [
    "#returns columns\n",
    "\n",
    "ncol(plants)"
   ]
  },
  {
   "cell_type": "code",
   "execution_count": 9,
   "metadata": {},
   "outputs": [
    {
     "data": {
      "text/plain": [
       "706848 bytes"
      ]
     },
     "metadata": {},
     "output_type": "display_data"
    }
   ],
   "source": [
    "#returns size of data\n",
    "\n",
    "object.size(plants)"
   ]
  },
  {
   "cell_type": "markdown",
   "metadata": {},
   "source": [
    " Now that we have a sense of the shape and size of the dataset, let's get a\n",
    " feel for what's inside. names(plants) will return a character vector of column\n",
    " (i.e. variable) names. Give it a shot."
   ]
  },
  {
   "cell_type": "code",
   "execution_count": 10,
   "metadata": {},
   "outputs": [
    {
     "data": {
      "text/html": [
       "<ol class=list-inline>\n",
       "\t<li>'X'</li>\n",
       "\t<li>'Scientific_Name'</li>\n",
       "\t<li>'Duration'</li>\n",
       "\t<li>'Active_Growth_Period'</li>\n",
       "\t<li>'Foliage_Color'</li>\n",
       "\t<li>'pH_Min'</li>\n",
       "\t<li>'pH_Max'</li>\n",
       "\t<li>'Precip_Min'</li>\n",
       "\t<li>'Precip_Max'</li>\n",
       "\t<li>'Shade_Tolerance'</li>\n",
       "\t<li>'Temp_Min_F'</li>\n",
       "</ol>\n"
      ],
      "text/latex": [
       "\\begin{enumerate*}\n",
       "\\item 'X'\n",
       "\\item 'Scientific\\_Name'\n",
       "\\item 'Duration'\n",
       "\\item 'Active\\_Growth\\_Period'\n",
       "\\item 'Foliage\\_Color'\n",
       "\\item 'pH\\_Min'\n",
       "\\item 'pH\\_Max'\n",
       "\\item 'Precip\\_Min'\n",
       "\\item 'Precip\\_Max'\n",
       "\\item 'Shade\\_Tolerance'\n",
       "\\item 'Temp\\_Min\\_F'\n",
       "\\end{enumerate*}\n"
      ],
      "text/markdown": [
       "1. 'X'\n",
       "2. 'Scientific_Name'\n",
       "3. 'Duration'\n",
       "4. 'Active_Growth_Period'\n",
       "5. 'Foliage_Color'\n",
       "6. 'pH_Min'\n",
       "7. 'pH_Max'\n",
       "8. 'Precip_Min'\n",
       "9. 'Precip_Max'\n",
       "10. 'Shade_Tolerance'\n",
       "11. 'Temp_Min_F'\n",
       "\n",
       "\n"
      ],
      "text/plain": [
       " [1] \"X\"                    \"Scientific_Name\"      \"Duration\"            \n",
       " [4] \"Active_Growth_Period\" \"Foliage_Color\"        \"pH_Min\"              \n",
       " [7] \"pH_Max\"               \"Precip_Min\"           \"Precip_Max\"          \n",
       "[10] \"Shade_Tolerance\"      \"Temp_Min_F\"          "
      ]
     },
     "metadata": {},
     "output_type": "display_data"
    }
   ],
   "source": [
    "names(plants)"
   ]
  },
  {
   "cell_type": "markdown",
   "metadata": {},
   "source": [
    "We've applied fairly descriptive variable names to this dataset, but that\n",
    " won't always be the case. A logical next step is to peek at the actual data.\n",
    " However, our dataset contains over 5000 observations (rows), so it's\n",
    " impractical to view the whole thing all at once.\n",
    "\n",
    "The head() function allows you to preview the top of the dataset. Give it a\n",
    " try with only one argument.\n"
   ]
  },
  {
   "cell_type": "code",
   "execution_count": 11,
   "metadata": {},
   "outputs": [
    {
     "data": {
      "text/html": [
       "<table>\n",
       "<thead><tr><th scope=col>X</th><th scope=col>Scientific_Name</th><th scope=col>Duration</th><th scope=col>Active_Growth_Period</th><th scope=col>Foliage_Color</th><th scope=col>pH_Min</th><th scope=col>pH_Max</th><th scope=col>Precip_Min</th><th scope=col>Precip_Max</th><th scope=col>Shade_Tolerance</th><th scope=col>Temp_Min_F</th></tr></thead>\n",
       "<tbody>\n",
       "\t<tr><td>1                           </td><td>Abelmoschus                 </td><td>NA                          </td><td>NA                          </td><td>NA                          </td><td>NA                          </td><td>NA                          </td><td>NA                          </td><td>NA                          </td><td>NA                          </td><td> NA                         </td></tr>\n",
       "\t<tr><td>2                           </td><td>Abelmoschus esculentus      </td><td>Annual, Perennial           </td><td>NA                          </td><td>NA                          </td><td>NA                          </td><td>NA                          </td><td>NA                          </td><td>NA                          </td><td>NA                          </td><td> NA                         </td></tr>\n",
       "\t<tr><td>3                           </td><td>Abies                       </td><td>NA                          </td><td>NA                          </td><td>NA                          </td><td>NA                          </td><td>NA                          </td><td>NA                          </td><td>NA                          </td><td>NA                          </td><td> NA                         </td></tr>\n",
       "\t<tr><td>4                           </td><td>Abies balsamea              </td><td>Perennial                   </td><td>Spring and Summer           </td><td>Green                       </td><td> 4                          </td><td> 6                          </td><td>13                          </td><td>60                          </td><td>Tolerant                    </td><td>-43                         </td></tr>\n",
       "\t<tr><td>5                           </td><td>Abies balsamea var. balsamea</td><td>Perennial                   </td><td>NA                          </td><td>NA                          </td><td>NA                          </td><td>NA                          </td><td>NA                          </td><td>NA                          </td><td>NA                          </td><td> NA                         </td></tr>\n",
       "\t<tr><td>6                           </td><td>Abutilon                    </td><td>NA                          </td><td>NA                          </td><td>NA                          </td><td>NA                          </td><td>NA                          </td><td>NA                          </td><td>NA                          </td><td>NA                          </td><td> NA                         </td></tr>\n",
       "</tbody>\n",
       "</table>\n"
      ],
      "text/latex": [
       "\\begin{tabular}{r|lllllllllll}\n",
       " X & Scientific\\_Name & Duration & Active\\_Growth\\_Period & Foliage\\_Color & pH\\_Min & pH\\_Max & Precip\\_Min & Precip\\_Max & Shade\\_Tolerance & Temp\\_Min\\_F\\\\\n",
       "\\hline\n",
       "\t 1                            & Abelmoschus                  & NA                           & NA                           & NA                           & NA                           & NA                           & NA                           & NA                           & NA                           &  NA                         \\\\\n",
       "\t 2                            & Abelmoschus esculentus       & Annual, Perennial            & NA                           & NA                           & NA                           & NA                           & NA                           & NA                           & NA                           &  NA                         \\\\\n",
       "\t 3                            & Abies                        & NA                           & NA                           & NA                           & NA                           & NA                           & NA                           & NA                           & NA                           &  NA                         \\\\\n",
       "\t 4                            & Abies balsamea               & Perennial                    & Spring and Summer            & Green                        &  4                           &  6                           & 13                           & 60                           & Tolerant                     & -43                         \\\\\n",
       "\t 5                            & Abies balsamea var. balsamea & Perennial                    & NA                           & NA                           & NA                           & NA                           & NA                           & NA                           & NA                           &  NA                         \\\\\n",
       "\t 6                            & Abutilon                     & NA                           & NA                           & NA                           & NA                           & NA                           & NA                           & NA                           & NA                           &  NA                         \\\\\n",
       "\\end{tabular}\n"
      ],
      "text/markdown": [
       "\n",
       "| X | Scientific_Name | Duration | Active_Growth_Period | Foliage_Color | pH_Min | pH_Max | Precip_Min | Precip_Max | Shade_Tolerance | Temp_Min_F |\n",
       "|---|---|---|---|---|---|---|---|---|---|---|\n",
       "| 1                            | Abelmoschus                  | NA                           | NA                           | NA                           | NA                           | NA                           | NA                           | NA                           | NA                           |  NA                          |\n",
       "| 2                            | Abelmoschus esculentus       | Annual, Perennial            | NA                           | NA                           | NA                           | NA                           | NA                           | NA                           | NA                           |  NA                          |\n",
       "| 3                            | Abies                        | NA                           | NA                           | NA                           | NA                           | NA                           | NA                           | NA                           | NA                           |  NA                          |\n",
       "| 4                            | Abies balsamea               | Perennial                    | Spring and Summer            | Green                        |  4                           |  6                           | 13                           | 60                           | Tolerant                     | -43                          |\n",
       "| 5                            | Abies balsamea var. balsamea | Perennial                    | NA                           | NA                           | NA                           | NA                           | NA                           | NA                           | NA                           |  NA                          |\n",
       "| 6                            | Abutilon                     | NA                           | NA                           | NA                           | NA                           | NA                           | NA                           | NA                           | NA                           |  NA                          |\n",
       "\n"
      ],
      "text/plain": [
       "  X Scientific_Name              Duration          Active_Growth_Period\n",
       "1 1 Abelmoschus                  NA                NA                  \n",
       "2 2 Abelmoschus esculentus       Annual, Perennial NA                  \n",
       "3 3 Abies                        NA                NA                  \n",
       "4 4 Abies balsamea               Perennial         Spring and Summer   \n",
       "5 5 Abies balsamea var. balsamea Perennial         NA                  \n",
       "6 6 Abutilon                     NA                NA                  \n",
       "  Foliage_Color pH_Min pH_Max Precip_Min Precip_Max Shade_Tolerance Temp_Min_F\n",
       "1 NA            NA     NA     NA         NA         NA               NA       \n",
       "2 NA            NA     NA     NA         NA         NA               NA       \n",
       "3 NA            NA     NA     NA         NA         NA               NA       \n",
       "4 Green          4      6     13         60         Tolerant        -43       \n",
       "5 NA            NA     NA     NA         NA         NA               NA       \n",
       "6 NA            NA     NA     NA         NA         NA               NA       "
      ]
     },
     "metadata": {},
     "output_type": "display_data"
    }
   ],
   "source": [
    "head(plants)"
   ]
  },
  {
   "cell_type": "markdown",
   "metadata": {},
   "source": [
    " Take a minute to look through and understand the output above. Each row is\n",
    " labeled with the observation number and each column with the variable name.\n",
    " Your screen is probably not wide enough to view all 10 columns side-by-side,\n",
    " in which case R displays as many columns as it can on each line before\n",
    " continuing on the next.\n",
    "\n",
    "\n",
    " By default, head() shows you the first six rows of the data. You can alter\n",
    " this behavior by passing as a second argument the number of rows you'd like to\n",
    " view. Use head() to preview the first 10 rows of plants."
   ]
  },
  {
   "cell_type": "code",
   "execution_count": 12,
   "metadata": {},
   "outputs": [
    {
     "data": {
      "text/html": [
       "<table>\n",
       "<thead><tr><th scope=col>X</th><th scope=col>Scientific_Name</th><th scope=col>Duration</th><th scope=col>Active_Growth_Period</th><th scope=col>Foliage_Color</th><th scope=col>pH_Min</th><th scope=col>pH_Max</th><th scope=col>Precip_Min</th><th scope=col>Precip_Max</th><th scope=col>Shade_Tolerance</th><th scope=col>Temp_Min_F</th></tr></thead>\n",
       "<tbody>\n",
       "\t<tr><td> 1                               </td><td>Abelmoschus                      </td><td>NA                               </td><td>NA                               </td><td>NA                               </td><td>NA                               </td><td> NA                              </td><td>NA                               </td><td>NA                               </td><td>NA                               </td><td> NA                              </td></tr>\n",
       "\t<tr><td> 2                               </td><td>Abelmoschus esculentus           </td><td>Annual, Perennial                </td><td>NA                               </td><td>NA                               </td><td>NA                               </td><td> NA                              </td><td>NA                               </td><td>NA                               </td><td>NA                               </td><td> NA                              </td></tr>\n",
       "\t<tr><td> 3                               </td><td>Abies                            </td><td>NA                               </td><td>NA                               </td><td>NA                               </td><td>NA                               </td><td> NA                              </td><td>NA                               </td><td>NA                               </td><td>NA                               </td><td> NA                              </td></tr>\n",
       "\t<tr><td> 4                               </td><td>Abies balsamea                   </td><td>Perennial                        </td><td>Spring and Summer                </td><td>Green                            </td><td> 4                               </td><td>6.0                              </td><td>13                               </td><td>60                               </td><td>Tolerant                         </td><td>-43                              </td></tr>\n",
       "\t<tr><td> 5                               </td><td>Abies balsamea var. balsamea     </td><td>Perennial                        </td><td>NA                               </td><td>NA                               </td><td>NA                               </td><td> NA                              </td><td>NA                               </td><td>NA                               </td><td>NA                               </td><td> NA                              </td></tr>\n",
       "\t<tr><td> 6                               </td><td>Abutilon                         </td><td>NA                               </td><td>NA                               </td><td>NA                               </td><td>NA                               </td><td> NA                              </td><td>NA                               </td><td>NA                               </td><td>NA                               </td><td> NA                              </td></tr>\n",
       "\t<tr><td> 7                               </td><td>Abutilon theophrasti             </td><td>Annual                           </td><td>NA                               </td><td>NA                               </td><td>NA                               </td><td> NA                              </td><td>NA                               </td><td>NA                               </td><td>NA                               </td><td> NA                              </td></tr>\n",
       "\t<tr><td> 8                               </td><td>Acacia                           </td><td>NA                               </td><td>NA                               </td><td>NA                               </td><td>NA                               </td><td> NA                              </td><td>NA                               </td><td>NA                               </td><td>NA                               </td><td> NA                              </td></tr>\n",
       "\t<tr><td> 9                               </td><td>Acacia constricta                </td><td>Perennial                        </td><td>Spring and Summer                </td><td>Green                            </td><td> 7                               </td><td>8.5                              </td><td> 4                               </td><td>20                               </td><td>Intolerant                       </td><td>-13                              </td></tr>\n",
       "\t<tr><td>10                               </td><td>Acacia constricta var. constricta</td><td>Perennial                        </td><td>NA                               </td><td>NA                               </td><td>NA                               </td><td> NA                              </td><td>NA                               </td><td>NA                               </td><td>NA                               </td><td> NA                              </td></tr>\n",
       "</tbody>\n",
       "</table>\n"
      ],
      "text/latex": [
       "\\begin{tabular}{r|lllllllllll}\n",
       " X & Scientific\\_Name & Duration & Active\\_Growth\\_Period & Foliage\\_Color & pH\\_Min & pH\\_Max & Precip\\_Min & Precip\\_Max & Shade\\_Tolerance & Temp\\_Min\\_F\\\\\n",
       "\\hline\n",
       "\t  1                                & Abelmoschus                       & NA                                & NA                                & NA                                & NA                                &  NA                               & NA                                & NA                                & NA                                &  NA                              \\\\\n",
       "\t  2                                & Abelmoschus esculentus            & Annual, Perennial                 & NA                                & NA                                & NA                                &  NA                               & NA                                & NA                                & NA                                &  NA                              \\\\\n",
       "\t  3                                & Abies                             & NA                                & NA                                & NA                                & NA                                &  NA                               & NA                                & NA                                & NA                                &  NA                              \\\\\n",
       "\t  4                                & Abies balsamea                    & Perennial                         & Spring and Summer                 & Green                             &  4                                & 6.0                               & 13                                & 60                                & Tolerant                          & -43                              \\\\\n",
       "\t  5                                & Abies balsamea var. balsamea      & Perennial                         & NA                                & NA                                & NA                                &  NA                               & NA                                & NA                                & NA                                &  NA                              \\\\\n",
       "\t  6                                & Abutilon                          & NA                                & NA                                & NA                                & NA                                &  NA                               & NA                                & NA                                & NA                                &  NA                              \\\\\n",
       "\t  7                                & Abutilon theophrasti              & Annual                            & NA                                & NA                                & NA                                &  NA                               & NA                                & NA                                & NA                                &  NA                              \\\\\n",
       "\t  8                                & Acacia                            & NA                                & NA                                & NA                                & NA                                &  NA                               & NA                                & NA                                & NA                                &  NA                              \\\\\n",
       "\t  9                                & Acacia constricta                 & Perennial                         & Spring and Summer                 & Green                             &  7                                & 8.5                               &  4                                & 20                                & Intolerant                        & -13                              \\\\\n",
       "\t 10                                & Acacia constricta var. constricta & Perennial                         & NA                                & NA                                & NA                                &  NA                               & NA                                & NA                                & NA                                &  NA                              \\\\\n",
       "\\end{tabular}\n"
      ],
      "text/markdown": [
       "\n",
       "| X | Scientific_Name | Duration | Active_Growth_Period | Foliage_Color | pH_Min | pH_Max | Precip_Min | Precip_Max | Shade_Tolerance | Temp_Min_F |\n",
       "|---|---|---|---|---|---|---|---|---|---|---|\n",
       "|  1                                | Abelmoschus                       | NA                                | NA                                | NA                                | NA                                |  NA                               | NA                                | NA                                | NA                                |  NA                               |\n",
       "|  2                                | Abelmoschus esculentus            | Annual, Perennial                 | NA                                | NA                                | NA                                |  NA                               | NA                                | NA                                | NA                                |  NA                               |\n",
       "|  3                                | Abies                             | NA                                | NA                                | NA                                | NA                                |  NA                               | NA                                | NA                                | NA                                |  NA                               |\n",
       "|  4                                | Abies balsamea                    | Perennial                         | Spring and Summer                 | Green                             |  4                                | 6.0                               | 13                                | 60                                | Tolerant                          | -43                               |\n",
       "|  5                                | Abies balsamea var. balsamea      | Perennial                         | NA                                | NA                                | NA                                |  NA                               | NA                                | NA                                | NA                                |  NA                               |\n",
       "|  6                                | Abutilon                          | NA                                | NA                                | NA                                | NA                                |  NA                               | NA                                | NA                                | NA                                |  NA                               |\n",
       "|  7                                | Abutilon theophrasti              | Annual                            | NA                                | NA                                | NA                                |  NA                               | NA                                | NA                                | NA                                |  NA                               |\n",
       "|  8                                | Acacia                            | NA                                | NA                                | NA                                | NA                                |  NA                               | NA                                | NA                                | NA                                |  NA                               |\n",
       "|  9                                | Acacia constricta                 | Perennial                         | Spring and Summer                 | Green                             |  7                                | 8.5                               |  4                                | 20                                | Intolerant                        | -13                               |\n",
       "| 10                                | Acacia constricta var. constricta | Perennial                         | NA                                | NA                                | NA                                |  NA                               | NA                                | NA                                | NA                                |  NA                               |\n",
       "\n"
      ],
      "text/plain": [
       "   X  Scientific_Name                   Duration          Active_Growth_Period\n",
       "1   1 Abelmoschus                       NA                NA                  \n",
       "2   2 Abelmoschus esculentus            Annual, Perennial NA                  \n",
       "3   3 Abies                             NA                NA                  \n",
       "4   4 Abies balsamea                    Perennial         Spring and Summer   \n",
       "5   5 Abies balsamea var. balsamea      Perennial         NA                  \n",
       "6   6 Abutilon                          NA                NA                  \n",
       "7   7 Abutilon theophrasti              Annual            NA                  \n",
       "8   8 Acacia                            NA                NA                  \n",
       "9   9 Acacia constricta                 Perennial         Spring and Summer   \n",
       "10 10 Acacia constricta var. constricta Perennial         NA                  \n",
       "   Foliage_Color pH_Min pH_Max Precip_Min Precip_Max Shade_Tolerance Temp_Min_F\n",
       "1  NA            NA      NA    NA         NA         NA               NA       \n",
       "2  NA            NA      NA    NA         NA         NA               NA       \n",
       "3  NA            NA      NA    NA         NA         NA               NA       \n",
       "4  Green          4     6.0    13         60         Tolerant        -43       \n",
       "5  NA            NA      NA    NA         NA         NA               NA       \n",
       "6  NA            NA      NA    NA         NA         NA               NA       \n",
       "7  NA            NA      NA    NA         NA         NA               NA       \n",
       "8  NA            NA      NA    NA         NA         NA               NA       \n",
       "9  Green          7     8.5     4         20         Intolerant      -13       \n",
       "10 NA            NA      NA    NA         NA         NA               NA       "
      ]
     },
     "metadata": {},
     "output_type": "display_data"
    }
   ],
   "source": [
    "head(plants,10)"
   ]
  },
  {
   "cell_type": "markdown",
   "metadata": {},
   "source": [
    " The same applies for using tail() to preview the end of the dataset. Use\n",
    " tail() to view the last 15 rows."
   ]
  },
  {
   "cell_type": "code",
   "execution_count": 15,
   "metadata": {},
   "outputs": [
    {
     "data": {
      "text/html": [
       "<table>\n",
       "<thead><tr><th></th><th scope=col>X</th><th scope=col>Scientific_Name</th><th scope=col>Duration</th><th scope=col>Active_Growth_Period</th><th scope=col>Foliage_Color</th><th scope=col>pH_Min</th><th scope=col>pH_Max</th><th scope=col>Precip_Min</th><th scope=col>Precip_Max</th><th scope=col>Shade_Tolerance</th><th scope=col>Temp_Min_F</th></tr></thead>\n",
       "<tbody>\n",
       "\t<tr><th scope=row>5152</th><td>5152                            </td><td>Zizania                         </td><td>NA                              </td><td>NA                              </td><td>NA                              </td><td> NA                             </td><td> NA                             </td><td>NA                              </td><td>NA                              </td><td>NA                              </td><td>NA                              </td></tr>\n",
       "\t<tr><th scope=row>5153</th><td>5153                            </td><td>Zizania aquatica                </td><td>Annual                          </td><td>Spring                          </td><td>Green                           </td><td>6.4                             </td><td>7.4                             </td><td>30                              </td><td>50                              </td><td>Intolerant                      </td><td>32                              </td></tr>\n",
       "\t<tr><th scope=row>5154</th><td>5154                            </td><td>Zizania aquatica var. aquatica  </td><td>Annual                          </td><td>NA                              </td><td>NA                              </td><td> NA                             </td><td> NA                             </td><td>NA                              </td><td>NA                              </td><td>NA                              </td><td>NA                              </td></tr>\n",
       "\t<tr><th scope=row>5155</th><td>5155                            </td><td>Zizania palustris               </td><td>Annual                          </td><td>NA                              </td><td>NA                              </td><td> NA                             </td><td> NA                             </td><td>NA                              </td><td>NA                              </td><td>NA                              </td><td>NA                              </td></tr>\n",
       "\t<tr><th scope=row>5156</th><td>5156                            </td><td>Zizania palustris var. palustris</td><td>Annual                          </td><td>NA                              </td><td>NA                              </td><td> NA                             </td><td> NA                             </td><td>NA                              </td><td>NA                              </td><td>NA                              </td><td>NA                              </td></tr>\n",
       "\t<tr><th scope=row>5157</th><td>5157                            </td><td>Zizaniopsis                     </td><td>NA                              </td><td>NA                              </td><td>NA                              </td><td> NA                             </td><td> NA                             </td><td>NA                              </td><td>NA                              </td><td>NA                              </td><td>NA                              </td></tr>\n",
       "\t<tr><th scope=row>5158</th><td>5158                            </td><td>Zizaniopsis miliacea            </td><td>Perennial                       </td><td>Spring and Summer               </td><td>Green                           </td><td>4.3                             </td><td>9.0                             </td><td>35                              </td><td>70                              </td><td>Intolerant                      </td><td>12                              </td></tr>\n",
       "\t<tr><th scope=row>5159</th><td>5159                            </td><td>Zizia                           </td><td>NA                              </td><td>NA                              </td><td>NA                              </td><td> NA                             </td><td> NA                             </td><td>NA                              </td><td>NA                              </td><td>NA                              </td><td>NA                              </td></tr>\n",
       "\t<tr><th scope=row>5160</th><td>5160                            </td><td>Zizia aptera                    </td><td>Perennial                       </td><td>NA                              </td><td>NA                              </td><td> NA                             </td><td> NA                             </td><td>NA                              </td><td>NA                              </td><td>NA                              </td><td>NA                              </td></tr>\n",
       "\t<tr><th scope=row>5161</th><td>5161                            </td><td>Zizia aurea                     </td><td>Perennial                       </td><td>NA                              </td><td>NA                              </td><td> NA                             </td><td> NA                             </td><td>NA                              </td><td>NA                              </td><td>NA                              </td><td>NA                              </td></tr>\n",
       "\t<tr><th scope=row>5162</th><td>5162                            </td><td>Zizia trifoliata                </td><td>Perennial                       </td><td>NA                              </td><td>NA                              </td><td> NA                             </td><td> NA                             </td><td>NA                              </td><td>NA                              </td><td>NA                              </td><td>NA                              </td></tr>\n",
       "\t<tr><th scope=row>5163</th><td>5163                            </td><td>Zostera                         </td><td>NA                              </td><td>NA                              </td><td>NA                              </td><td> NA                             </td><td> NA                             </td><td>NA                              </td><td>NA                              </td><td>NA                              </td><td>NA                              </td></tr>\n",
       "\t<tr><th scope=row>5164</th><td>5164                            </td><td>Zostera marina                  </td><td>Perennial                       </td><td>NA                              </td><td>NA                              </td><td> NA                             </td><td> NA                             </td><td>NA                              </td><td>NA                              </td><td>NA                              </td><td>NA                              </td></tr>\n",
       "\t<tr><th scope=row>5165</th><td>5165                            </td><td>Zoysia                          </td><td>NA                              </td><td>NA                              </td><td>NA                              </td><td> NA                             </td><td> NA                             </td><td>NA                              </td><td>NA                              </td><td>NA                              </td><td>NA                              </td></tr>\n",
       "\t<tr><th scope=row>5166</th><td>5166                            </td><td>Zoysia japonica                 </td><td>Perennial                       </td><td>NA                              </td><td>NA                              </td><td> NA                             </td><td> NA                             </td><td>NA                              </td><td>NA                              </td><td>NA                              </td><td>NA                              </td></tr>\n",
       "</tbody>\n",
       "</table>\n"
      ],
      "text/latex": [
       "\\begin{tabular}{r|lllllllllll}\n",
       "  & X & Scientific\\_Name & Duration & Active\\_Growth\\_Period & Foliage\\_Color & pH\\_Min & pH\\_Max & Precip\\_Min & Precip\\_Max & Shade\\_Tolerance & Temp\\_Min\\_F\\\\\n",
       "\\hline\n",
       "\t5152 & 5152                             & Zizania                          & NA                               & NA                               & NA                               &  NA                              &  NA                              & NA                               & NA                               & NA                               & NA                              \\\\\n",
       "\t5153 & 5153                             & Zizania aquatica                 & Annual                           & Spring                           & Green                            & 6.4                              & 7.4                              & 30                               & 50                               & Intolerant                       & 32                              \\\\\n",
       "\t5154 & 5154                             & Zizania aquatica var. aquatica   & Annual                           & NA                               & NA                               &  NA                              &  NA                              & NA                               & NA                               & NA                               & NA                              \\\\\n",
       "\t5155 & 5155                             & Zizania palustris                & Annual                           & NA                               & NA                               &  NA                              &  NA                              & NA                               & NA                               & NA                               & NA                              \\\\\n",
       "\t5156 & 5156                             & Zizania palustris var. palustris & Annual                           & NA                               & NA                               &  NA                              &  NA                              & NA                               & NA                               & NA                               & NA                              \\\\\n",
       "\t5157 & 5157                             & Zizaniopsis                      & NA                               & NA                               & NA                               &  NA                              &  NA                              & NA                               & NA                               & NA                               & NA                              \\\\\n",
       "\t5158 & 5158                             & Zizaniopsis miliacea             & Perennial                        & Spring and Summer                & Green                            & 4.3                              & 9.0                              & 35                               & 70                               & Intolerant                       & 12                              \\\\\n",
       "\t5159 & 5159                             & Zizia                            & NA                               & NA                               & NA                               &  NA                              &  NA                              & NA                               & NA                               & NA                               & NA                              \\\\\n",
       "\t5160 & 5160                             & Zizia aptera                     & Perennial                        & NA                               & NA                               &  NA                              &  NA                              & NA                               & NA                               & NA                               & NA                              \\\\\n",
       "\t5161 & 5161                             & Zizia aurea                      & Perennial                        & NA                               & NA                               &  NA                              &  NA                              & NA                               & NA                               & NA                               & NA                              \\\\\n",
       "\t5162 & 5162                             & Zizia trifoliata                 & Perennial                        & NA                               & NA                               &  NA                              &  NA                              & NA                               & NA                               & NA                               & NA                              \\\\\n",
       "\t5163 & 5163                             & Zostera                          & NA                               & NA                               & NA                               &  NA                              &  NA                              & NA                               & NA                               & NA                               & NA                              \\\\\n",
       "\t5164 & 5164                             & Zostera marina                   & Perennial                        & NA                               & NA                               &  NA                              &  NA                              & NA                               & NA                               & NA                               & NA                              \\\\\n",
       "\t5165 & 5165                             & Zoysia                           & NA                               & NA                               & NA                               &  NA                              &  NA                              & NA                               & NA                               & NA                               & NA                              \\\\\n",
       "\t5166 & 5166                             & Zoysia japonica                  & Perennial                        & NA                               & NA                               &  NA                              &  NA                              & NA                               & NA                               & NA                               & NA                              \\\\\n",
       "\\end{tabular}\n"
      ],
      "text/markdown": [
       "\n",
       "| <!--/--> | X | Scientific_Name | Duration | Active_Growth_Period | Foliage_Color | pH_Min | pH_Max | Precip_Min | Precip_Max | Shade_Tolerance | Temp_Min_F |\n",
       "|---|---|---|---|---|---|---|---|---|---|---|---|\n",
       "| 5152 | 5152                             | Zizania                          | NA                               | NA                               | NA                               |  NA                              |  NA                              | NA                               | NA                               | NA                               | NA                               |\n",
       "| 5153 | 5153                             | Zizania aquatica                 | Annual                           | Spring                           | Green                            | 6.4                              | 7.4                              | 30                               | 50                               | Intolerant                       | 32                               |\n",
       "| 5154 | 5154                             | Zizania aquatica var. aquatica   | Annual                           | NA                               | NA                               |  NA                              |  NA                              | NA                               | NA                               | NA                               | NA                               |\n",
       "| 5155 | 5155                             | Zizania palustris                | Annual                           | NA                               | NA                               |  NA                              |  NA                              | NA                               | NA                               | NA                               | NA                               |\n",
       "| 5156 | 5156                             | Zizania palustris var. palustris | Annual                           | NA                               | NA                               |  NA                              |  NA                              | NA                               | NA                               | NA                               | NA                               |\n",
       "| 5157 | 5157                             | Zizaniopsis                      | NA                               | NA                               | NA                               |  NA                              |  NA                              | NA                               | NA                               | NA                               | NA                               |\n",
       "| 5158 | 5158                             | Zizaniopsis miliacea             | Perennial                        | Spring and Summer                | Green                            | 4.3                              | 9.0                              | 35                               | 70                               | Intolerant                       | 12                               |\n",
       "| 5159 | 5159                             | Zizia                            | NA                               | NA                               | NA                               |  NA                              |  NA                              | NA                               | NA                               | NA                               | NA                               |\n",
       "| 5160 | 5160                             | Zizia aptera                     | Perennial                        | NA                               | NA                               |  NA                              |  NA                              | NA                               | NA                               | NA                               | NA                               |\n",
       "| 5161 | 5161                             | Zizia aurea                      | Perennial                        | NA                               | NA                               |  NA                              |  NA                              | NA                               | NA                               | NA                               | NA                               |\n",
       "| 5162 | 5162                             | Zizia trifoliata                 | Perennial                        | NA                               | NA                               |  NA                              |  NA                              | NA                               | NA                               | NA                               | NA                               |\n",
       "| 5163 | 5163                             | Zostera                          | NA                               | NA                               | NA                               |  NA                              |  NA                              | NA                               | NA                               | NA                               | NA                               |\n",
       "| 5164 | 5164                             | Zostera marina                   | Perennial                        | NA                               | NA                               |  NA                              |  NA                              | NA                               | NA                               | NA                               | NA                               |\n",
       "| 5165 | 5165                             | Zoysia                           | NA                               | NA                               | NA                               |  NA                              |  NA                              | NA                               | NA                               | NA                               | NA                               |\n",
       "| 5166 | 5166                             | Zoysia japonica                  | Perennial                        | NA                               | NA                               |  NA                              |  NA                              | NA                               | NA                               | NA                               | NA                               |\n",
       "\n"
      ],
      "text/plain": [
       "     X    Scientific_Name                  Duration  Active_Growth_Period\n",
       "5152 5152 Zizania                          NA        NA                  \n",
       "5153 5153 Zizania aquatica                 Annual    Spring              \n",
       "5154 5154 Zizania aquatica var. aquatica   Annual    NA                  \n",
       "5155 5155 Zizania palustris                Annual    NA                  \n",
       "5156 5156 Zizania palustris var. palustris Annual    NA                  \n",
       "5157 5157 Zizaniopsis                      NA        NA                  \n",
       "5158 5158 Zizaniopsis miliacea             Perennial Spring and Summer   \n",
       "5159 5159 Zizia                            NA        NA                  \n",
       "5160 5160 Zizia aptera                     Perennial NA                  \n",
       "5161 5161 Zizia aurea                      Perennial NA                  \n",
       "5162 5162 Zizia trifoliata                 Perennial NA                  \n",
       "5163 5163 Zostera                          NA        NA                  \n",
       "5164 5164 Zostera marina                   Perennial NA                  \n",
       "5165 5165 Zoysia                           NA        NA                  \n",
       "5166 5166 Zoysia japonica                  Perennial NA                  \n",
       "     Foliage_Color pH_Min pH_Max Precip_Min Precip_Max Shade_Tolerance\n",
       "5152 NA             NA     NA    NA         NA         NA             \n",
       "5153 Green         6.4    7.4    30         50         Intolerant     \n",
       "5154 NA             NA     NA    NA         NA         NA             \n",
       "5155 NA             NA     NA    NA         NA         NA             \n",
       "5156 NA             NA     NA    NA         NA         NA             \n",
       "5157 NA             NA     NA    NA         NA         NA             \n",
       "5158 Green         4.3    9.0    35         70         Intolerant     \n",
       "5159 NA             NA     NA    NA         NA         NA             \n",
       "5160 NA             NA     NA    NA         NA         NA             \n",
       "5161 NA             NA     NA    NA         NA         NA             \n",
       "5162 NA             NA     NA    NA         NA         NA             \n",
       "5163 NA             NA     NA    NA         NA         NA             \n",
       "5164 NA             NA     NA    NA         NA         NA             \n",
       "5165 NA             NA     NA    NA         NA         NA             \n",
       "5166 NA             NA     NA    NA         NA         NA             \n",
       "     Temp_Min_F\n",
       "5152 NA        \n",
       "5153 32        \n",
       "5154 NA        \n",
       "5155 NA        \n",
       "5156 NA        \n",
       "5157 NA        \n",
       "5158 12        \n",
       "5159 NA        \n",
       "5160 NA        \n",
       "5161 NA        \n",
       "5162 NA        \n",
       "5163 NA        \n",
       "5164 NA        \n",
       "5165 NA        \n",
       "5166 NA        "
      ]
     },
     "metadata": {},
     "output_type": "display_data"
    }
   ],
   "source": [
    "tail(plants,15)"
   ]
  },
  {
   "cell_type": "markdown",
   "metadata": {},
   "source": [
    " After previewing the top and bottom of the data, you probably noticed lots of\n",
    " NAs, which are R's placeholders for missing values. Use summary(plants) to get\n",
    " a better feel for how each variable is distributed and how much of the dataset\n",
    " is missing.\n"
   ]
  },
  {
   "cell_type": "code",
   "execution_count": 16,
   "metadata": {},
   "outputs": [
    {
     "data": {
      "text/plain": [
       "       X                            Scientific_Name              Duration   \n",
       " Min.   :   1   Abelmoschus                 :   1   Perennial        :3031  \n",
       " 1st Qu.:1292   Abelmoschus esculentus      :   1   Annual           : 682  \n",
       " Median :2584   Abies                       :   1   Annual, Perennial: 179  \n",
       " Mean   :2584   Abies balsamea              :   1   Annual, Biennial :  95  \n",
       " 3rd Qu.:3875   Abies balsamea var. balsamea:   1   Biennial         :  57  \n",
       " Max.   :5166   Abutilon                    :   1   (Other)          :  92  \n",
       "                (Other)                     :5160   NA's             :1030  \n",
       "           Active_Growth_Period      Foliage_Color      pH_Min     \n",
       " Spring and Summer   : 447      Dark Green  :  82   Min.   :3.000  \n",
       " Spring              : 144      Gray-Green  :  25   1st Qu.:4.500  \n",
       " Spring, Summer, Fall:  95      Green       : 692   Median :5.000  \n",
       " Summer              :  92      Red         :   4   Mean   :4.997  \n",
       " Summer and Fall     :  24      White-Gray  :   9   3rd Qu.:5.500  \n",
       " (Other)             :  30      Yellow-Green:  20   Max.   :7.000  \n",
       " NA's                :4334      NA's        :4334   NA's   :4327   \n",
       "     pH_Max         Precip_Min      Precip_Max         Shade_Tolerance\n",
       " Min.   : 5.100   Min.   : 4.00   Min.   : 16.00   Intermediate: 242  \n",
       " 1st Qu.: 7.000   1st Qu.:16.75   1st Qu.: 55.00   Intolerant  : 349  \n",
       " Median : 7.300   Median :28.00   Median : 60.00   Tolerant    : 246  \n",
       " Mean   : 7.344   Mean   :25.57   Mean   : 58.73   NA's        :4329  \n",
       " 3rd Qu.: 7.800   3rd Qu.:32.00   3rd Qu.: 60.00                      \n",
       " Max.   :10.000   Max.   :60.00   Max.   :200.00                      \n",
       " NA's   :4327     NA's   :4338    NA's   :4338                        \n",
       "   Temp_Min_F    \n",
       " Min.   :-79.00  \n",
       " 1st Qu.:-38.00  \n",
       " Median :-33.00  \n",
       " Mean   :-22.53  \n",
       " 3rd Qu.:-18.00  \n",
       " Max.   : 52.00  \n",
       " NA's   :4328    "
      ]
     },
     "metadata": {},
     "output_type": "display_data"
    }
   ],
   "source": [
    "summary(plants)"
   ]
  },
  {
   "cell_type": "markdown",
   "metadata": {},
   "source": [
    " summary() provides different output for each variable, depending on its class.\n",
    " For numeric data such as Precip_Min, summary() displays the minimum, 1st\n",
    " quartile, median, mean, 3rd quartile, and maximum. These values help us\n",
    " understand how the data are distributed.\n",
    "\n",
    " For categorical variables (called 'factor' variables in R), summary() displays\n",
    " the number of times each value (or 'level') occurs in the data. For example,\n",
    " each value of Scientific_Name only appears once, since it is unique to a\n",
    " specific plant. In contrast, the summary for Duration (also a factor variable)\n",
    " tells us that our dataset contains 3031 Perennial plants, 682 Annual plants,\n",
    " etc.\n",
    "\n",
    " You can see that R truncated the summary for Active_Growth_Period by including\n",
    " a catch-all category called 'Other'. Since it is a categorical/factor\n",
    " variable, we can see how many times each value actually occurs in the data\n",
    " with table(plants$Active_Growth_Period)."
   ]
  },
  {
   "cell_type": "code",
   "execution_count": 18,
   "metadata": {},
   "outputs": [
    {
     "data": {
      "text/plain": [
       "\n",
       "Fall, Winter and Spring                  Spring         Spring and Fall \n",
       "                     15                     144                      10 \n",
       "      Spring and Summer    Spring, Summer, Fall                  Summer \n",
       "                    447                      95                      92 \n",
       "        Summer and Fall              Year Round \n",
       "                     24                       5 "
      ]
     },
     "metadata": {},
     "output_type": "display_data"
    }
   ],
   "source": [
    "table(plants$Active_Growth_Period)"
   ]
  },
  {
   "cell_type": "markdown",
   "metadata": {},
   "source": [
    " Each of the functions we've introduced so far has its place in helping you to\n",
    " better understand the structure of your data. However, we've left the best for\n",
    " last....\n",
    "\n",
    " Perhaps the most useful and concise function for understanding the *str*ucture\n",
    " of your data is str(). Give it a try now.\n"
   ]
  },
  {
   "cell_type": "code",
   "execution_count": 19,
   "metadata": {},
   "outputs": [
    {
     "name": "stdout",
     "output_type": "stream",
     "text": [
      "'data.frame':\t5166 obs. of  11 variables:\n",
      " $ X                   : int  1 2 3 4 5 6 7 8 9 10 ...\n",
      " $ Scientific_Name     : Factor w/ 5166 levels \"Abelmoschus\",..: 1 2 3 4 5 6 7 8 9 10 ...\n",
      " $ Duration            : Factor w/ 8 levels \"Annual\",\"Annual, Biennial\",..: NA 4 NA 7 7 NA 1 NA 7 7 ...\n",
      " $ Active_Growth_Period: Factor w/ 8 levels \"Fall, Winter and Spring\",..: NA NA NA 4 NA NA NA NA 4 NA ...\n",
      " $ Foliage_Color       : Factor w/ 6 levels \"Dark Green\",\"Gray-Green\",..: NA NA NA 3 NA NA NA NA 3 NA ...\n",
      " $ pH_Min              : num  NA NA NA 4 NA NA NA NA 7 NA ...\n",
      " $ pH_Max              : num  NA NA NA 6 NA NA NA NA 8.5 NA ...\n",
      " $ Precip_Min          : int  NA NA NA 13 NA NA NA NA 4 NA ...\n",
      " $ Precip_Max          : int  NA NA NA 60 NA NA NA NA 20 NA ...\n",
      " $ Shade_Tolerance     : Factor w/ 3 levels \"Intermediate\",..: NA NA NA 3 NA NA NA NA 2 NA ...\n",
      " $ Temp_Min_F          : int  NA NA NA -43 NA NA NA NA -13 NA ...\n"
     ]
    }
   ],
   "source": [
    "str(plants)"
   ]
  },
  {
   "cell_type": "markdown",
   "metadata": {},
   "source": [
    " The beauty of str() is that it combines many of the features of the other\n",
    " functions you've already seen, all in a concise and readable format. At the\n",
    " very top, it tells us that the class of plants is 'data.frame' and that it has\n",
    " 5166 observations and 10 variables. It then gives us the name and class of\n",
    " each variable, as well as a preview of its contents.\n",
    "\n",
    " str() is actually a very general function that you can use on most objects in\n",
    " R. Any time you want to understand the structure of something (a dataset,\n",
    " function, etc.), str() is a good place to start.\n",
    "\n",
    " In this lesson, you learned how to get a feel for the structure and contents\n",
    " of a new dataset using a collection of simple and useful functions. Taking the\n",
    " time to do this upfront can save you time and frustration later on in your\n",
    " analysis.\n",
    "\n",
    "Source : swirlstats"
   ]
  }
 ],
 "metadata": {
  "kernelspec": {
   "display_name": "R",
   "language": "R",
   "name": "ir"
  },
  "language_info": {
   "codemirror_mode": "r",
   "file_extension": ".r",
   "mimetype": "text/x-r-source",
   "name": "R",
   "pygments_lexer": "r",
   "version": "3.6.1"
  }
 },
 "nbformat": 4,
 "nbformat_minor": 4
}
