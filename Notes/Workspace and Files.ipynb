{
 "cells": [
  {
   "cell_type": "markdown",
   "metadata": {},
   "source": [
    "# Workplace and Files\n",
    "**Author: Sanket Dave**\n",
    "<hr>\n",
    "\n",
    "#### Functions we will learn:\n",
    "- **getwd()**\n",
    "- **ls()**\n",
    "- **list.files() and dir()**\n",
    "- **?function_name** - used for help\n",
    "- **args()**\n",
    "- **dir.create()**\n",
    "- **setwd()**\n",
    "- **file.create()**\n",
    "- **file.info()**\n",
    "- **file.rename()**\n",
    "- **file.path()**\n",
    "- **dir.create()**"
   ]
  },
  {
   "cell_type": "markdown",
   "metadata": {},
   "source": [
    "**Determine which directory your R session is using as its current working\n",
    "directory using <code>getwd()</code>.**"
   ]
  },
  {
   "cell_type": "code",
   "execution_count": null,
   "metadata": {},
   "outputs": [],
   "source": [
    "getwd()"
   ]
  },
  {
   "cell_type": "markdown",
   "metadata": {},
   "source": [
    "**Defining some objects**"
   ]
  },
  {
   "cell_type": "code",
   "execution_count": 8,
   "metadata": {},
   "outputs": [],
   "source": [
    "x <- 9\n",
    "y <- 1\n",
    "z <- 23"
   ]
  },
  {
   "cell_type": "markdown",
   "metadata": {},
   "source": [
    "**List all the objects in your local workspace using <code>ls()</code>.**"
   ]
  },
  {
   "cell_type": "code",
   "execution_count": 7,
   "metadata": {},
   "outputs": [
    {
     "data": {
      "text/html": [
       "<ol class=list-inline>\n",
       "\t<li>'x'</li>\n",
       "\t<li>'y'</li>\n",
       "\t<li>'z'</li>\n",
       "</ol>\n"
      ],
      "text/latex": [
       "\\begin{enumerate*}\n",
       "\\item 'x'\n",
       "\\item 'y'\n",
       "\\item 'z'\n",
       "\\end{enumerate*}\n"
      ],
      "text/markdown": [
       "1. 'x'\n",
       "2. 'y'\n",
       "3. 'z'\n",
       "\n",
       "\n"
      ],
      "text/plain": [
       "[1] \"x\" \"y\" \"z\""
      ]
     },
     "metadata": {},
     "output_type": "display_data"
    }
   ],
   "source": [
    "ls()"
   ]
  },
  {
   "cell_type": "markdown",
   "metadata": {},
   "source": [
    "**List all the files in your working directory using <code>list.files()</code> or <code>dir()</code>.**"
   ]
  },
  {
   "cell_type": "code",
   "execution_count": 5,
   "metadata": {},
   "outputs": [
    {
     "data": {
      "text/html": [
       "<ol class=list-inline>\n",
       "\t<li>'hw1_data.csv'</li>\n",
       "\t<li>'R-Bootcamp-Notes.Rproj'</li>\n",
       "\t<li>'README.md'</li>\n",
       "\t<li>'testdir'</li>\n",
       "\t<li>'Untitled.ipynb'</li>\n",
       "</ol>\n"
      ],
      "text/latex": [
       "\\begin{enumerate*}\n",
       "\\item 'hw1\\_data.csv'\n",
       "\\item 'R-Bootcamp-Notes.Rproj'\n",
       "\\item 'README.md'\n",
       "\\item 'testdir'\n",
       "\\item 'Untitled.ipynb'\n",
       "\\end{enumerate*}\n"
      ],
      "text/markdown": [
       "1. 'hw1_data.csv'\n",
       "2. 'R-Bootcamp-Notes.Rproj'\n",
       "3. 'README.md'\n",
       "4. 'testdir'\n",
       "5. 'Untitled.ipynb'\n",
       "\n",
       "\n"
      ],
      "text/plain": [
       "[1] \"hw1_data.csv\"           \"R-Bootcamp-Notes.Rproj\" \"README.md\"             \n",
       "[4] \"testdir\"                \"Untitled.ipynb\"        "
      ]
     },
     "metadata": {},
     "output_type": "display_data"
    }
   ],
   "source": [
    "list.files()"
   ]
  },
  {
   "cell_type": "code",
   "execution_count": 9,
   "metadata": {},
   "outputs": [
    {
     "data": {
      "text/html": [
       "<ol class=list-inline>\n",
       "\t<li>'hw1_data.csv'</li>\n",
       "\t<li>'R-Bootcamp-Notes.Rproj'</li>\n",
       "\t<li>'README.md'</li>\n",
       "\t<li>'testdir'</li>\n",
       "\t<li>'Workspace and Files.ipynb'</li>\n",
       "</ol>\n"
      ],
      "text/latex": [
       "\\begin{enumerate*}\n",
       "\\item 'hw1\\_data.csv'\n",
       "\\item 'R-Bootcamp-Notes.Rproj'\n",
       "\\item 'README.md'\n",
       "\\item 'testdir'\n",
       "\\item 'Workspace and Files.ipynb'\n",
       "\\end{enumerate*}\n"
      ],
      "text/markdown": [
       "1. 'hw1_data.csv'\n",
       "2. 'R-Bootcamp-Notes.Rproj'\n",
       "3. 'README.md'\n",
       "4. 'testdir'\n",
       "5. 'Workspace and Files.ipynb'\n",
       "\n",
       "\n"
      ],
      "text/plain": [
       "[1] \"hw1_data.csv\"              \"R-Bootcamp-Notes.Rproj\"   \n",
       "[3] \"README.md\"                 \"testdir\"                  \n",
       "[5] \"Workspace and Files.ipynb\""
      ]
     },
     "metadata": {},
     "output_type": "display_data"
    }
   ],
   "source": [
    "dir()"
   ]
  },
  {
   "cell_type": "markdown",
   "metadata": {},
   "source": [
    "**As we go through this lesson, you should be examining the help page for each new function.**\n",
    "\n",
    "**Check out the help page for list.files with the command**  <code>**?list.files.**</code>"
   ]
  },
  {
   "cell_type": "code",
   "execution_count": 17,
   "metadata": {},
   "outputs": [],
   "source": [
    "?list.files"
   ]
  },
  {
   "cell_type": "markdown",
   "metadata": {},
   "source": [
    "**Use the <code>args()</code> function to determine the arguments to list.files().**"
   ]
  },
  {
   "cell_type": "code",
   "execution_count": 13,
   "metadata": {},
   "outputs": [
    {
     "data": {
      "text/html": [
       "<pre class=language-r><code>function (path = \".\", pattern = NULL, all.files = FALSE, full.names = FALSE, \n",
       "<span style=white-space:pre-wrap>    recursive = FALSE, ignore.case = FALSE, include.dirs = FALSE, </span>\n",
       "<span style=white-space:pre-wrap>    no.. = FALSE) </span>\n",
       "NULL</code></pre>"
      ],
      "text/latex": [
       "\\begin{minted}{r}\n",
       "function (path = \".\", pattern = NULL, all.files = FALSE, full.names = FALSE, \n",
       "    recursive = FALSE, ignore.case = FALSE, include.dirs = FALSE, \n",
       "    no.. = FALSE) \n",
       "NULL\n",
       "\\end{minted}"
      ],
      "text/markdown": [
       "```r\n",
       "function (path = \".\", pattern = NULL, all.files = FALSE, full.names = FALSE, \n",
       "    recursive = FALSE, ignore.case = FALSE, include.dirs = FALSE, \n",
       "    no.. = FALSE) \n",
       "NULL\n",
       "```"
      ],
      "text/plain": [
       "function (path = \".\", pattern = NULL, all.files = FALSE, full.names = FALSE, \n",
       "    recursive = FALSE, ignore.case = FALSE, include.dirs = FALSE, \n",
       "    no.. = FALSE) \n",
       "NULL"
      ]
     },
     "metadata": {},
     "output_type": "display_data"
    }
   ],
   "source": [
    "args(list.files)"
   ]
  },
  {
   "cell_type": "markdown",
   "metadata": {},
   "source": [
    "**Use <code>dir.create()</code> to create a directory in the current working directory called \"testdir\".**"
   ]
  },
  {
   "cell_type": "code",
   "execution_count": 15,
   "metadata": {},
   "outputs": [],
   "source": [
    "dir.create(\"testdir\")"
   ]
  },
  {
   "cell_type": "markdown",
   "metadata": {},
   "source": [
    "**Set your working directory to \"testdir\" with the <code>setwd()</code> command.**"
   ]
  },
  {
   "cell_type": "code",
   "execution_count": 16,
   "metadata": {},
   "outputs": [],
   "source": [
    "setwd(\"testdir\")"
   ]
  },
  {
   "cell_type": "markdown",
   "metadata": {},
   "source": [
    "**Create a file in your working directory called \"mytest.R\" using the <code>file.create()</code> function.**\n"
   ]
  },
  {
   "cell_type": "code",
   "execution_count": 18,
   "metadata": {},
   "outputs": [
    {
     "data": {
      "text/html": [
       "TRUE"
      ],
      "text/latex": [
       "TRUE"
      ],
      "text/markdown": [
       "TRUE"
      ],
      "text/plain": [
       "[1] TRUE"
      ]
     },
     "metadata": {},
     "output_type": "display_data"
    }
   ],
   "source": [
    "file.create(\"mytest.R\")"
   ]
  },
  {
   "cell_type": "markdown",
   "metadata": {},
   "source": [
    "**Check to see if \"mytest.R\" exists in the working directory using the <code>file.exists()</code> function.**"
   ]
  },
  {
   "cell_type": "code",
   "execution_count": 19,
   "metadata": {},
   "outputs": [
    {
     "data": {
      "text/html": [
       "TRUE"
      ],
      "text/latex": [
       "TRUE"
      ],
      "text/markdown": [
       "TRUE"
      ],
      "text/plain": [
       "[1] TRUE"
      ]
     },
     "metadata": {},
     "output_type": "display_data"
    }
   ],
   "source": [
    "file.exists(\"mytest.R\")"
   ]
  },
  {
   "cell_type": "markdown",
   "metadata": {},
   "source": [
    "**Access information about the file \"mytest.R\" by using <code>file.info().</code>**"
   ]
  },
  {
   "cell_type": "code",
   "execution_count": 20,
   "metadata": {},
   "outputs": [
    {
     "data": {
      "text/html": [
       "<table>\n",
       "<thead><tr><th></th><th scope=col>size</th><th scope=col>isdir</th><th scope=col>mode</th><th scope=col>mtime</th><th scope=col>ctime</th><th scope=col>atime</th><th scope=col>exe</th></tr></thead>\n",
       "<tbody>\n",
       "\t<tr><th scope=row>mytest.R</th><td>0                  </td><td>FALSE              </td><td>666                </td><td>2020-08-04 16:34:54</td><td>2020-08-04 16:33:28</td><td>2020-08-04 16:34:54</td><td>no                 </td></tr>\n",
       "</tbody>\n",
       "</table>\n"
      ],
      "text/latex": [
       "\\begin{tabular}{r|lllllll}\n",
       "  & size & isdir & mode & mtime & ctime & atime & exe\\\\\n",
       "\\hline\n",
       "\tmytest.R & 0                   & FALSE               & 666                 & 2020-08-04 16:34:54 & 2020-08-04 16:33:28 & 2020-08-04 16:34:54 & no                 \\\\\n",
       "\\end{tabular}\n"
      ],
      "text/markdown": [
       "\n",
       "| <!--/--> | size | isdir | mode | mtime | ctime | atime | exe |\n",
       "|---|---|---|---|---|---|---|---|\n",
       "| mytest.R | 0                   | FALSE               | 666                 | 2020-08-04 16:34:54 | 2020-08-04 16:33:28 | 2020-08-04 16:34:54 | no                  |\n",
       "\n"
      ],
      "text/plain": [
       "         size isdir mode mtime               ctime              \n",
       "mytest.R 0    FALSE 666  2020-08-04 16:34:54 2020-08-04 16:33:28\n",
       "         atime               exe\n",
       "mytest.R 2020-08-04 16:34:54 no "
      ]
     },
     "metadata": {},
     "output_type": "display_data"
    }
   ],
   "source": [
    "file.info(\"mytest.R\")\n",
    "\n",
    "# You can use the $ operator --- e.g., file.info(\"mytest.R\")$mode --- to grab specific items."
   ]
  },
  {
   "cell_type": "markdown",
   "metadata": {},
   "source": [
    "**Change the name of the file \"mytest.R\" to \"mytest2.R\" by using <code>file.rename().</code>**"
   ]
  },
  {
   "cell_type": "code",
   "execution_count": 23,
   "metadata": {},
   "outputs": [
    {
     "data": {
      "text/html": [
       "TRUE"
      ],
      "text/latex": [
       "TRUE"
      ],
      "text/markdown": [
       "TRUE"
      ],
      "text/plain": [
       "[1] TRUE"
      ]
     },
     "metadata": {},
     "output_type": "display_data"
    }
   ],
   "source": [
    "file.rename(\"mytest.R\",\"mytest2.R\")"
   ]
  },
  {
   "cell_type": "markdown",
   "metadata": {},
   "source": [
    "**Make a copy of \"mytest2.R\" called \"mytest3.R\" using <code>file.copy().</code>**\n"
   ]
  },
  {
   "cell_type": "code",
   "execution_count": 24,
   "metadata": {},
   "outputs": [
    {
     "data": {
      "text/html": [
       "TRUE"
      ],
      "text/latex": [
       "TRUE"
      ],
      "text/markdown": [
       "TRUE"
      ],
      "text/plain": [
       "[1] TRUE"
      ]
     },
     "metadata": {},
     "output_type": "display_data"
    }
   ],
   "source": [
    "file.copy(\"mytest2.R\",\"mytest0.R\")"
   ]
  },
  {
   "cell_type": "markdown",
   "metadata": {},
   "source": [
    "**Provide the relative path to the file \"mytest3.R\" by using <code>file.path()</code>.**"
   ]
  },
  {
   "cell_type": "code",
   "execution_count": 25,
   "metadata": {},
   "outputs": [
    {
     "data": {
      "text/html": [
       "'mytest3.R'"
      ],
      "text/latex": [
       "'mytest3.R'"
      ],
      "text/markdown": [
       "'mytest3.R'"
      ],
      "text/plain": [
       "[1] \"mytest3.R\""
      ]
     },
     "metadata": {},
     "output_type": "display_data"
    }
   ],
   "source": [
    "file.path(\"mytest3.R\")"
   ]
  },
  {
   "cell_type": "markdown",
   "metadata": {},
   "source": [
    "**You can use file.path to construct file and directory paths that are\n",
    " independent of the operating system your R code is running on. Pass 'folder1'\n",
    " and 'folder2' as arguments to file.path to make a platform-independent\n",
    " pathname.**"
   ]
  },
  {
   "cell_type": "code",
   "execution_count": 28,
   "metadata": {},
   "outputs": [
    {
     "data": {
      "text/html": [
       "'folderX/folderY'"
      ],
      "text/latex": [
       "'folderX/folderY'"
      ],
      "text/markdown": [
       "'folderX/folderY'"
      ],
      "text/plain": [
       "[1] \"folderX/folderY\""
      ]
     },
     "metadata": {},
     "output_type": "display_data"
    }
   ],
   "source": [
    "file.path(\"folderX\",\"folderY\")\n",
    "\n",
    "\n",
    "#Take a look at the documentation for dir.create by entering ?dir.create .\n",
    "#Notice the 'recursive' argument. \n",
    "#In order to create nested directories,'recursive' must be set to TRUE.\n"
   ]
  },
  {
   "cell_type": "markdown",
   "metadata": {},
   "source": [
    "**Create a directory in the current working directory called \"testdir2\" and a\n",
    " subdirectory for it called \"testdir3\", all in one command by using <code>dir.create()\n",
    " and file.path()</code>.**"
   ]
  },
  {
   "cell_type": "code",
   "execution_count": 29,
   "metadata": {},
   "outputs": [],
   "source": [
    "dir.create(file.path(\"testdirX\",\"testdirY\"),recursive = TRUE)"
   ]
  },
  {
   "cell_type": "markdown",
   "metadata": {},
   "source": [
    "**Go back to your original working directory using setwd(). (Recall that we\n",
    " created the variable old.dir with the full path for the orginal working\n",
    " directory at the start of these questions.)**\n",
    "\n",
    "<code>setwd(old.dir)</code>\n",
    "\n",
    "**It is often helpful to save the settings that you had before you began an analysis and then go back to them at the end. This trick is often used within functions; you save, say, the par() settings that you started with, mess around a bunch, and then set them back to the original values at the end. This isn't the same as what we have done here, but it seems similar enough to mention.**"
   ]
  },
  {
   "cell_type": "markdown",
   "metadata": {},
   "source": [
    "> **Source: swirlstats.com/students.html**"
   ]
  }
 ],
 "metadata": {
  "kernelspec": {
   "display_name": "R",
   "language": "R",
   "name": "ir"
  },
  "language_info": {
   "codemirror_mode": "r",
   "file_extension": ".r",
   "mimetype": "text/x-r-source",
   "name": "R",
   "pygments_lexer": "r",
   "version": "3.6.1"
  }
 },
 "nbformat": 4,
 "nbformat_minor": 4
}
