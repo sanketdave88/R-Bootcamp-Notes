{
 "cells": [
  {
   "cell_type": "markdown",
   "metadata": {},
   "source": [
    "# Functions\n",
    "**Author : Sanket Dave**\n",
    "\n",
    "---\n",
    "**Functions are one of the fundamental building blocks of the R\n",
    " language. They are small pieces of reusable code that can be treated\n",
    " like any other R object.**\n",
    "\n",
    " **If you've worked through any other part of this course, you've\n",
    " probably used some functions already. Functions are usually\n",
    " characterized by the name of the function followed by parentheses.**\n",
    "\n",
    "**Topics:**\n",
    "\n",
    "- [Starting with functions](#f1)\n",
    "- [Time to make a more useful function!](#f2)\n",
    "- [Writing functions with default arguments](#f3)\n",
    "- [Passing functions as arguments](#f4)\n",
    "- [Creating Anonymous Function](#f5)\n",
    "- [Elipses to format sentences](#f6)\n",
    "- [Elipses(...) Argument Unpacking](#f7)\n",
    "- [Creating new binary operator](#f8)\n",
    "\n",
    "---"
   ]
  },
  {
   "cell_type": "markdown",
   "metadata": {},
   "source": [
    "Let's try using a few basic functions just for fun. The Sys.Date()\n",
    " function returns a string representing today's date. Type Sys.Date()\n",
    " below and see what happens."
   ]
  },
  {
   "cell_type": "code",
   "execution_count": 1,
   "metadata": {},
   "outputs": [
    {
     "data": {
      "text/html": [
       "<time datetime=\"2020-08-05\">2020-08-05</time>"
      ],
      "text/latex": [
       "2020-08-05"
      ],
      "text/markdown": [
       "2020-08-05"
      ],
      "text/plain": [
       "[1] \"2020-08-05\""
      ]
     },
     "metadata": {},
     "output_type": "display_data"
    }
   ],
   "source": [
    "Sys.Date()"
   ]
  },
  {
   "cell_type": "markdown",
   "metadata": {},
   "source": [
    "Most functions in R return a value. Functions like Sys.Date() return\n",
    " a value based on your computer's environment, while other functions\n",
    " manipulate input data in order to compute a return value."
   ]
  },
  {
   "cell_type": "markdown",
   "metadata": {},
   "source": [
    "The mean() function takes a vector of numbers as input, and returns\n",
    " the average of all of the numbers in the input vector. Inputs to\n",
    " functions are often called arguments. Providing arguments to a\n",
    " function is also sometimes called passing arguments to that\n",
    " function. Arguments you want to pass to a function go inside the\n",
    " function's parentheses. Try passing the argument c(2, 4, 5) to the\n",
    " mean() function."
   ]
  },
  {
   "cell_type": "code",
   "execution_count": 2,
   "metadata": {},
   "outputs": [
    {
     "data": {
      "text/html": [
       "3.66666666666667"
      ],
      "text/latex": [
       "3.66666666666667"
      ],
      "text/markdown": [
       "3.66666666666667"
      ],
      "text/plain": [
       "[1] 3.666667"
      ]
     },
     "metadata": {},
     "output_type": "display_data"
    }
   ],
   "source": [
    "mean(c(2,4,5))"
   ]
  },
  {
   "cell_type": "markdown",
   "metadata": {},
   "source": [
    "Functions usually take arguments which are variables that the\n",
    " function operates on. For example, the mean() function takes a\n",
    " vector as an argument, like in the case of mean(c(2,6,8)). The\n",
    " mean() function then adds up all of the numbers in the vector and\n",
    " divides that sum by the length of the vector."
   ]
  },
  {
   "cell_type": "markdown",
   "metadata": {},
   "source": [
    "<div id=f1></div>\n",
    "\n",
    "**Starting with functions**\n",
    "\n",
    "In the following question you will be asked to modify a script that\n",
    " will appear as soon as you move on from this question. \n",
    " \n",
    "  You're about to write your first function! Just like you would assign a value \n",
    " to a variable with the assignment operator, you assign functions in the following\n",
    " way:\n",
    "\n",
    " function_name <- function(arg1, arg2){\n",
    "\t Manipulate arguments in some way\n",
    "\t Return a value\n",
    " }\n",
    "\n",
    " The \"variable name\" you assign will become the name of your function. arg1 and\n",
    " arg2 represent the arguments of your function. You can manipulate the arguments\n",
    " you specify within the function. After sourcing the function, you can use the \n",
    " function by typing:\n",
    " \n",
    " function_name(value1, value2)\n",
    "\n",
    " Below we will create a function called boring_function. This function takes\n",
    " the argument `x` as input, and returns the value of x without modifying it.\n",
    " Delete the pound sign in front of the x to make the function work! Be sure to \n",
    " save this script and type submit() in the console after you make your changes.\n"
   ]
  },
  {
   "cell_type": "code",
   "execution_count": 3,
   "metadata": {},
   "outputs": [],
   "source": [
    "boring_function <- function(x){\n",
    "    x\n",
    "}"
   ]
  },
  {
   "cell_type": "code",
   "execution_count": 4,
   "metadata": {},
   "outputs": [
    {
     "data": {
      "text/html": [
       "'My first function!'"
      ],
      "text/latex": [
       "'My first function!'"
      ],
      "text/markdown": [
       "'My first function!'"
      ],
      "text/plain": [
       "[1] \"My first function!\""
      ]
     },
     "metadata": {},
     "output_type": "display_data"
    }
   ],
   "source": [
    "boring_function('My first function!')"
   ]
  },
  {
   "cell_type": "markdown",
   "metadata": {},
   "source": [
    "Congratulations on writing your first function. By writing functions, you can gain\n",
    " serious insight into how R works. As John Chambers, the creator of R once said:\n",
    " \n",
    " To understand computations in R, two slogans are helpful: 1. Everything that exists is\n",
    " an object. 2. Everything that happens is a function call.\n",
    "\n",
    " If you want to see the source code for any function, just type the function name\n",
    " without any arguments or parentheses. Let's try this out with the function you just\n",
    " created. Type: boring_function to view its source code."
   ]
  },
  {
   "cell_type": "code",
   "execution_count": 5,
   "metadata": {},
   "outputs": [
    {
     "data": {
      "text/html": [
       "<pre class=language-r><code>function (x) \n",
       "{\n",
       "<span style=white-space:pre-wrap>    x</span>\n",
       "}</code></pre>"
      ],
      "text/latex": [
       "\\begin{minted}{r}\n",
       "function (x) \n",
       "\\{\n",
       "    x\n",
       "\\}\n",
       "\\end{minted}"
      ],
      "text/markdown": [
       "```r\n",
       "function (x) \n",
       "{\n",
       "    x\n",
       "}\n",
       "```"
      ],
      "text/plain": [
       "function(x){\n",
       "    x\n",
       "}"
      ]
     },
     "metadata": {},
     "output_type": "display_data"
    }
   ],
   "source": [
    "boring_function"
   ]
  },
  {
   "cell_type": "markdown",
   "metadata": {},
   "source": [
    "<div id=f2></div>\n",
    "\n",
    "**Time to make a more useful function!** \n",
    "\n",
    "We're going to replicate the functionality of the\n",
    " mean() function by creating a function called: my_mean(). Remember that to calculate\n",
    " the average of all of the numbers in a vector you find the sum of all the numbers in\n",
    " the vector, and then divide that sum by the number of numbers in the vector.\n"
   ]
  },
  {
   "cell_type": "markdown",
   "metadata": {},
   "source": [
    " You're free to implement the function my_mean however you want, as long as it\n",
    " returns the average of all of the numbers in `my_vector`.\n",
    "\n",
    " **Hint 1:** sum() returns the sum of a vector.\n",
    " \tEx: sum(c(1, 2, 3)) evaluates to 6\n",
    "\n",
    " **Hint 2:** length() returns the size of a vector.\n",
    " \tEx: length(c(1, 2, 3)) evaluates to 3\n",
    "\n",
    " **Hint 3:** The mean of all the numbers in a vector is equal to the sum of all of\n",
    "\t\t   the numbers in the vector divided by the size of the vector.\n",
    "\n",
    " Note for those of you feeling super clever: Please do not use the mean()\n",
    " function while writing this function. We're trying to teach you something \n",
    " here!\n",
    "\n",
    " Be sure to save this script and type submit() in the console after you make \n",
    " your changes."
   ]
  },
  {
   "cell_type": "code",
   "execution_count": 6,
   "metadata": {},
   "outputs": [],
   "source": [
    "my_mean <- function(my_vector){\n",
    "  \n",
    "    s <- sum(my_vector)\n",
    "    l <- length(my_vector)\n",
    "  \n",
    "    m <- s/l\n",
    "  \n",
    "    m\n",
    "}"
   ]
  },
  {
   "cell_type": "code",
   "execution_count": 7,
   "metadata": {},
   "outputs": [
    {
     "data": {
      "text/html": [
       "5.33333333333333"
      ],
      "text/latex": [
       "5.33333333333333"
      ],
      "text/markdown": [
       "5.33333333333333"
      ],
      "text/plain": [
       "[1] 5.333333"
      ]
     },
     "metadata": {},
     "output_type": "display_data"
    }
   ],
   "source": [
    "my_mean(c(2,4,10))"
   ]
  },
  {
   "cell_type": "markdown",
   "metadata": {},
   "source": [
    "<div id=f3></div>\n",
    "\n",
    "**Writing functions with default arguements**\n",
    "\n",
    "Next, let's try writing a function with default arguments. You can set default values\n",
    " for a function's arguments, and this can be useful if you think someone who uses your\n",
    " function will set a certain argument to the same value most of the time."
   ]
  },
  {
   "cell_type": "markdown",
   "metadata": {},
   "source": [
    " Let me show you an example of a function I'm going to make up called\n",
    " increment(). Most of the time I want to use this function to increase the\n",
    " value of a number by one. This function will take two arguments: \"number\" and\n",
    " \"by\" where \"number\" is the digit I want to increment and \"by\" is the amount I\n",
    " want to increment \"number\" by. I've written the function below. \n",
    "\n",
    " increment <- function(number, by = 1){\n",
    "     number + by\n",
    " }\n",
    "\n",
    " If you take a look in between the parentheses you can see that I've set\n",
    " \"by\" equal to 1. This means that the \"by\" argument will have the default\n",
    " value of 1.\n",
    "\n",
    " I can now use the increment function without providing a value for \"by\": \n",
    " increment(5) will evaluate to 6. \n",
    "\n",
    " However if I want to provide a value for the \"by\" argument I still can! The\n",
    " expression: increment(5, 2) will evaluate to 7. \n",
    " \n",
    " You're going to write a function called \"remainder.\" remainder() will take\n",
    " two arguments: \"num\" and \"divisor\" where \"num\" is divided by \"divisor\" and\n",
    " the remainder is returned. Imagine that you usually want to know the remainder\n",
    " when you divide by 2, so set the default value of \"divisor\" to 2. Please be\n",
    " sure that \"num\" is the first argument and \"divisor\" is the second argument.\n",
    "\n",
    " **Hint 1:** You can use the modulus operator %% to find the remainder.\n",
    "   Ex: 7 %% 4 evaluates to 3. \n",
    "\n",
    " Remember to set appropriate default values! Be sure to save this \n",
    " script and type submit() in the console after you write the function."
   ]
  },
  {
   "cell_type": "code",
   "execution_count": 9,
   "metadata": {},
   "outputs": [],
   "source": [
    "remainder <- function(num, divisor=2) {\n",
    "   Write your code here!\n",
    "   Remember: the last expression evaluated will be returned! \n",
    "  rem <- num%%divisor\n",
    "  rem\n",
    "}"
   ]
  },
  {
   "cell_type": "code",
   "execution_count": 10,
   "metadata": {},
   "outputs": [
    {
     "data": {
      "text/html": [
       "0"
      ],
      "text/latex": [
       "0"
      ],
      "text/markdown": [
       "0"
      ],
      "text/plain": [
       "[1] 0"
      ]
     },
     "metadata": {},
     "output_type": "display_data"
    }
   ],
   "source": [
    "remainder(10)"
   ]
  },
  {
   "cell_type": "code",
   "execution_count": 11,
   "metadata": {},
   "outputs": [
    {
     "data": {
      "text/html": [
       "1"
      ],
      "text/latex": [
       "1"
      ],
      "text/markdown": [
       "1"
      ],
      "text/plain": [
       "[1] 1"
      ]
     },
     "metadata": {},
     "output_type": "display_data"
    }
   ],
   "source": [
    "remainder(11,5)"
   ]
  },
  {
   "cell_type": "code",
   "execution_count": 12,
   "metadata": {},
   "outputs": [
    {
     "data": {
      "text/html": [
       "5"
      ],
      "text/latex": [
       "5"
      ],
      "text/markdown": [
       "5"
      ],
      "text/plain": [
       "[1] 5"
      ]
     },
     "metadata": {},
     "output_type": "display_data"
    }
   ],
   "source": [
    "remainder(divisor=11,num=5)"
   ]
  },
  {
   "cell_type": "code",
   "execution_count": 13,
   "metadata": {},
   "outputs": [
    {
     "data": {
      "text/html": [
       "0"
      ],
      "text/latex": [
       "0"
      ],
      "text/markdown": [
       "0"
      ],
      "text/plain": [
       "[1] 0"
      ]
     },
     "metadata": {},
     "output_type": "display_data"
    }
   ],
   "source": [
    "remainder(4,div=2)"
   ]
  },
  {
   "cell_type": "markdown",
   "metadata": {},
   "source": [
    "With all of this talk about arguments, you may be wondering if there is a way you can\n",
    " see a function's arguments (besides looking at the documentation). Thankfully, you can\n",
    " use the args() function! Type: args(remainder) to examine the arguments for the\n",
    " remainder function."
   ]
  },
  {
   "cell_type": "code",
   "execution_count": 14,
   "metadata": {},
   "outputs": [
    {
     "data": {
      "text/html": [
       "<pre class=language-r><code>function (num, divisor = 2) \n",
       "NULL</code></pre>"
      ],
      "text/latex": [
       "\\begin{minted}{r}\n",
       "function (num, divisor = 2) \n",
       "NULL\n",
       "\\end{minted}"
      ],
      "text/markdown": [
       "```r\n",
       "function (num, divisor = 2) \n",
       "NULL\n",
       "```"
      ],
      "text/plain": [
       "function (num, divisor = 2) \n",
       "NULL"
      ]
     },
     "metadata": {},
     "output_type": "display_data"
    }
   ],
   "source": [
    "args(remainder)"
   ]
  },
  {
   "cell_type": "markdown",
   "metadata": {},
   "source": [
    "You may not realize it but I just tricked you into doing something pretty interesting!\n",
    " args() is a function, remainder() is a function, yet remainder was an argument for\n",
    " args(). Yes it's true: you can pass functions as arguments! This is a very powerful\n",
    " concept. Let's write a script to see how it works."
   ]
  },
  {
   "cell_type": "markdown",
   "metadata": {},
   "source": [
    " <div id=f4></div>\n",
    " \n",
    " **Passing functions as arguments**\n",
    " \n",
    " You can pass functions as arguments to other functions just like you can pass\n",
    " data to functions. Let's say you define the following functions:\n",
    "\n",
    " add_two_numbers <- function(num1, num2){\n",
    "    num1 + num2\n",
    " }\n",
    "\n",
    " multiply_two_numbers <- function(num1, num2){\n",
    "\tnum1 * num2\n",
    " }\n",
    "\n",
    " some_function <- function(func){\n",
    "    func(2, 4)\n",
    " }\n",
    "\n",
    " As you can see we use the argument name \"func\" like a function inside of \n",
    " \"some_function().\" By passing functions as arguments \n",
    " some_function(add_two_numbers) will evaluate to 6, while\n",
    " some_function(multiply_two_numbers) will evaluate to 8.\n",
    " \n",
    " Finish the function definition below so that if a function is passed into the\n",
    " \"func\" argument and some data (like a vector) is passed into the dat argument\n",
    " the evaluate() function will return the result of dat being passed as an\n",
    " argument to func.\n",
    "\n",
    " Hints: This exercise is a little tricky so I'll provide a few example of how\n",
    " evaluate() should act:\n",
    "    1. evaluate(sum, c(2, 4, 6)) should evaluate to 12\n",
    "    2. evaluate(median, c(7, 40, 9)) should evaluate to 9\n",
    "    3. evaluate(floor, 11.1) should evaluate to 11"
   ]
  },
  {
   "cell_type": "code",
   "execution_count": 26,
   "metadata": {},
   "outputs": [],
   "source": [
    "evaluate <- function(func, dat){\n",
    "   Write your code here!\n",
    "   Remember: the last expression evaluated will be returned! \n",
    "  func(dat)\n",
    "}"
   ]
  },
  {
   "cell_type": "code",
   "execution_count": 25,
   "metadata": {},
   "outputs": [
    {
     "data": {
      "text/html": [
       "12"
      ],
      "text/latex": [
       "12"
      ],
      "text/markdown": [
       "12"
      ],
      "text/plain": [
       "[1] 12"
      ]
     },
     "metadata": {},
     "output_type": "display_data"
    }
   ],
   "source": [
    "evaluate(sum,c(2,4,6))"
   ]
  },
  {
   "cell_type": "code",
   "execution_count": 27,
   "metadata": {},
   "outputs": [
    {
     "data": {
      "text/html": [
       "3.51413811149571"
      ],
      "text/latex": [
       "3.51413811149571"
      ],
      "text/markdown": [
       "3.51413811149571"
      ],
      "text/plain": [
       "[1] 3.514138"
      ]
     },
     "metadata": {},
     "output_type": "display_data"
    }
   ],
   "source": [
    "evaluate(sd,c(1.4, 3.6, 7.9, 8.8))"
   ]
  },
  {
   "cell_type": "markdown",
   "metadata": {},
   "source": [
    "<div id=f5></div>\n",
    "\n",
    "**Creating Anonymous Function**\n",
    "\n",
    "The idea of passing functions as arguments to other functions is an important and\n",
    " fundamental concept in programming.\n",
    "\n",
    "You may be surprised to learn that you can pass a function as an argument without\n",
    " first defining the passed function. Functions that are not named are appropriately\n",
    " known as anonymous functions.\n",
    "\n",
    "Let's use the evaluate function to explore how anonymous functions work. For the first\n",
    " argument of the evaluate function we're going to write a tiny function that fits on\n",
    " one line. In the second argument we'll pass some data to the tiny anonymous function\n",
    " in the first argument.\n",
    "\n",
    "Type the following command and then we'll discuss how it works:\n",
    " evaluate(function(x){x+1}, 6)"
   ]
  },
  {
   "cell_type": "code",
   "execution_count": 28,
   "metadata": {},
   "outputs": [
    {
     "data": {
      "text/html": [
       "7"
      ],
      "text/latex": [
       "7"
      ],
      "text/markdown": [
       "7"
      ],
      "text/plain": [
       "[1] 7"
      ]
     },
     "metadata": {},
     "output_type": "display_data"
    }
   ],
   "source": [
    "evaluate(function(x){x+1}, 6)"
   ]
  },
  {
   "cell_type": "markdown",
   "metadata": {},
   "source": [
    "The first argument is a tiny anonymous function that takes one argument `x` and\n",
    " returns `x+1`. We passed the number 6 into this function so the entire expression\n",
    " evaluates to 7.\n",
    "\n",
    "Try using evaluate() along with an anonymous function to return the first element of\n",
    " the vector c(8, 4, 0). Your anonymous function should only take one argument which\n",
    " should be a variable `x`."
   ]
  },
  {
   "cell_type": "code",
   "execution_count": 30,
   "metadata": {},
   "outputs": [
    {
     "data": {
      "text/html": [
       "8"
      ],
      "text/latex": [
       "8"
      ],
      "text/markdown": [
       "8"
      ],
      "text/plain": [
       "[1] 8"
      ]
     },
     "metadata": {},
     "output_type": "display_data"
    }
   ],
   "source": [
    "evaluate(function(x){x[1]}, c(8, 4, 0))"
   ]
  },
  {
   "cell_type": "markdown",
   "metadata": {},
   "source": [
    "Now try using evaluate() along with an anonymous function to return the last element\n",
    " of the vector c(8, 4, 0). Your anonymous function should only take one argument which\n",
    " should be a variable `x`."
   ]
  },
  {
   "cell_type": "code",
   "execution_count": 35,
   "metadata": {},
   "outputs": [
    {
     "data": {
      "text/html": [
       "<ol class=list-inline>\n",
       "\t<li>4</li>\n",
       "\t<li>0</li>\n",
       "</ol>\n"
      ],
      "text/latex": [
       "\\begin{enumerate*}\n",
       "\\item 4\n",
       "\\item 0\n",
       "\\end{enumerate*}\n"
      ],
      "text/markdown": [
       "1. 4\n",
       "2. 0\n",
       "\n",
       "\n"
      ],
      "text/plain": [
       "[1] 4 0"
      ]
     },
     "metadata": {},
     "output_type": "display_data"
    }
   ],
   "source": [
    "evaluate(function(x){x[-1]}, c(8, 4, 0))"
   ]
  },
  {
   "cell_type": "markdown",
   "metadata": {},
   "source": [
    "<div id=f6></div>\n",
    "\n",
    "**Elipses to format sentences**"
   ]
  },
  {
   "cell_type": "markdown",
   "metadata": {},
   "source": [
    " The ellipses can be used to pass on arguments to other functions that are\n",
    " used within the function you're writing. Usually a function that has the\n",
    " ellipses as an argument has the ellipses as the last argument. The usage of\n",
    " such a function would look like:\n",
    "\n",
    " ellipses_func(arg1, arg2 = TRUE, ...)\n",
    "\n",
    " In the above example arg1 has no default value, so a value must be provided\n",
    " for arg1. arg2 has a default value, and other arguments can come after arg2\n",
    " depending on how they're defined in the ellipses_func() documentation.\n",
    " Interestingly the usage for the paste function is as follows:\n",
    "\n",
    " paste (..., sep = \" \", collapse = NULL)\n",
    "\n",
    " Notice that the ellipses is the first argument, and all other arguments after\n",
    " the ellipses have default values. This is a strict rule in R programming: all\n",
    " arguments after an ellipses must have default values. Take a look at the\n",
    " simon_says function below:\n",
    "\n",
    " simon_says <- function(...){\n",
    "   paste(\"Simon says:\", ...)\n",
    " }\n",
    "\n",
    " The simon_says function works just like the paste function, except the\n",
    " begining of every string is prepended by the string \"Simon says:\"\n",
    "\n",
    " Telegrams used to be peppered with the words START and STOP in order to\n",
    " demarcate the beginning and end of sentences. Write a function below called \n",
    " telegram that formats sentences for telegrams.\n",
    " For example the expression `telegram(\"Good\", \"morning\")` should evaluate to:\n",
    " \"START Good morning STOP\""
   ]
  },
  {
   "cell_type": "code",
   "execution_count": 37,
   "metadata": {},
   "outputs": [],
   "source": [
    "telegram <- function(...){\n",
    "  paste(\"START\", ..., \"STOP\")\n",
    "}"
   ]
  },
  {
   "cell_type": "code",
   "execution_count": 38,
   "metadata": {},
   "outputs": [
    {
     "data": {
      "text/html": [
       "'START good morning STOP'"
      ],
      "text/latex": [
       "'START good morning STOP'"
      ],
      "text/markdown": [
       "'START good morning STOP'"
      ],
      "text/plain": [
       "[1] \"START good morning STOP\""
      ]
     },
     "metadata": {},
     "output_type": "display_data"
    }
   ],
   "source": [
    "telegram(\"good\",\"morning\")"
   ]
  },
  {
   "cell_type": "markdown",
   "metadata": {},
   "source": [
    "<div id=f7></div>\n",
    "\n",
    "**Elipses(...) Argument Unpacking**"
   ]
  },
  {
   "cell_type": "code",
   "execution_count": 44,
   "metadata": {},
   "outputs": [],
   "source": [
    "mad_libs <- function(...){\n",
    "   Do your argument unpacking here!\n",
    "  args <- list(...)\n",
    "  place <- args[['place']]\n",
    "  adjective <- args[['adjective']]\n",
    "  noun <- args[['noun']]  \n",
    "\n",
    "   Don't modify any code below this comment.\n",
    "   Notice the variables you'll need to create in order for the code below to\n",
    "   be functional!\n",
    "  paste(\"News from\", place, \"today where\", adjective, \"students took to the streets in protest of the new\", noun, \"being installed on campus.\")\n",
    "}"
   ]
  },
  {
   "cell_type": "code",
   "execution_count": 45,
   "metadata": {},
   "outputs": [
    {
     "data": {
      "text/html": [
       "<span style=white-space:pre-wrap>'News from  today where  students took to the streets in protest of the new  being installed on campus.'</span>"
      ],
      "text/latex": [
       "'News from  today where  students took to the streets in protest of the new  being installed on campus.'"
      ],
      "text/markdown": [
       "<span style=white-space:pre-wrap>'News from  today where  students took to the streets in protest of the new  being installed on campus.'</span>"
      ],
      "text/plain": [
       "[1] \"News from  today where  students took to the streets in protest of the new  being installed on campus.\""
      ]
     },
     "metadata": {},
     "output_type": "display_data"
    }
   ],
   "source": [
    "mad_libs()"
   ]
  },
  {
   "cell_type": "markdown",
   "metadata": {},
   "source": [
    " We're coming to the end of this lesson, but there's still one more idea you\n",
    " should be made aware of.\n",
    "\n",
    " In R you can define your own binary operators. In the next script I'll show you\n",
    " how."
   ]
  },
  {
   "cell_type": "markdown",
   "metadata": {},
   "source": [
    " <div id=f8></div>\n",
    " \n",
    " **Creating new binary operator**\n",
    " \n",
    " The syntax for creating new binary operators in R is unlike anything else in\n",
    " R, but it allows you to define a new syntax for your function. I would only\n",
    " recommend making your own binary operator if you plan on using it often!\n",
    "\n",
    " User-defined binary operators have the following syntax:\n",
    "      %[whatever]% \n",
    " where [whatever] represents any valid variable name.\n",
    " \n",
    " Let's say I wanted to define a binary operator that multiplied two numbers and\n",
    " then added one to the product. An implementation of that operator is below:\n",
    "\n",
    " \"%mult_add_one%\" <- function(left, right){  Notice the quotation marks!\n",
    "   left * right + 1\n",
    " }\n",
    "\n",
    " I could then use this binary operator like `4 %mult_add_one% 5` which would\n",
    " evaluate to 21.\n",
    "\n",
    " Write your own binary operator below from absolute scratch! Your binary\n",
    " operator must be called %p% so that the expression:\n",
    "\n",
    "       \"Good\" %p% \"job!\"\n",
    "\n",
    " will evaluate to: \"Good job!\""
   ]
  },
  {
   "cell_type": "code",
   "execution_count": 46,
   "metadata": {},
   "outputs": [],
   "source": [
    "\"%p%\" <- function(left,right){ # Remember to add arguments!\n",
    "  paste(left,right,collapse = \" \")\n",
    "}"
   ]
  },
  {
   "cell_type": "markdown",
   "metadata": {},
   "source": [
    "You made your own binary operator! Let's test it out. Paste together the\n",
    " strings: 'I', 'love', 'R!' using your new binary operator."
   ]
  },
  {
   "cell_type": "code",
   "execution_count": 47,
   "metadata": {},
   "outputs": [
    {
     "data": {
      "text/html": [
       "'I love R!'"
      ],
      "text/latex": [
       "'I love R!'"
      ],
      "text/markdown": [
       "'I love R!'"
      ],
      "text/plain": [
       "[1] \"I love R!\""
      ]
     },
     "metadata": {},
     "output_type": "display_data"
    }
   ],
   "source": [
    "\"I\" %p% \"love\" %p% \"R!\""
   ]
  },
  {
   "cell_type": "markdown",
   "metadata": {},
   "source": [
    "**Source : [Swirlstats](swirlstats.com/student.html)**"
   ]
  }
 ],
 "metadata": {
  "kernelspec": {
   "display_name": "R",
   "language": "R",
   "name": "ir"
  },
  "language_info": {
   "codemirror_mode": "r",
   "file_extension": ".r",
   "mimetype": "text/x-r-source",
   "name": "R",
   "pygments_lexer": "r",
   "version": "3.6.1"
  }
 },
 "nbformat": 4,
 "nbformat_minor": 4
}
