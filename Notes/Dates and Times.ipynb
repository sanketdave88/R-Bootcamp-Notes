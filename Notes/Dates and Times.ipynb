{
 "cells": [
  {
   "cell_type": "markdown",
   "metadata": {},
   "source": [
    "# Dates and Times\n",
    "**Author : Sanket Dave**\n",
    "\n",
    "---\n",
    " R has a special way of\n",
    " representing dates and times,\n",
    " which can be helpful if you're\n",
    " working with data that show how\n",
    " something changes over time\n",
    " (i.e. time-series data) or if\n",
    " your data contain some other\n",
    " temporal information, like dates\n",
    " of birth.\n",
    "\n",
    " Dates are represented by the\n",
    " 'Date' class and times are\n",
    " represented by the 'POSIXct' and\n",
    " 'POSIXlt' classes. Internally,\n",
    " dates are stored as the number\n",
    " of days since 1970-01-01 and\n",
    " times are stored as either the\n",
    " number of seconds since\n",
    " 1970-01-01 (for 'POSIXct') or a\n",
    " list of seconds, minutes, hours,\n",
    " etc. (for 'POSIXlt').\n"
   ]
  },
  {
   "cell_type": "markdown",
   "metadata": {},
   "source": [
    " Let's start by using d1 <-\n",
    " Sys.Date() to get the current\n",
    " date and store it in the\n",
    " variable d1. (That's the letter\n",
    " 'd' and the number 1.)"
   ]
  },
  {
   "cell_type": "code",
   "execution_count": 1,
   "metadata": {},
   "outputs": [],
   "source": [
    "d1 <- Sys.Date()"
   ]
  },
  {
   "cell_type": "markdown",
   "metadata": {},
   "source": [
    " Use the class() function to\n",
    " confirm d1 is a Date object."
   ]
  },
  {
   "cell_type": "code",
   "execution_count": 2,
   "metadata": {},
   "outputs": [
    {
     "data": {
      "text/html": [
       "'Date'"
      ],
      "text/latex": [
       "'Date'"
      ],
      "text/markdown": [
       "'Date'"
      ],
      "text/plain": [
       "[1] \"Date\""
      ]
     },
     "metadata": {},
     "output_type": "display_data"
    }
   ],
   "source": [
    "class(d1)"
   ]
  },
  {
   "cell_type": "markdown",
   "metadata": {},
   "source": [
    "We can use the unclass()\n",
    " function to see what d1 looks\n",
    " like internally. Try it out."
   ]
  },
  {
   "cell_type": "code",
   "execution_count": 3,
   "metadata": {},
   "outputs": [
    {
     "data": {
      "text/html": [
       "18481"
      ],
      "text/latex": [
       "18481"
      ],
      "text/markdown": [
       "18481"
      ],
      "text/plain": [
       "[1] 18481"
      ]
     },
     "metadata": {},
     "output_type": "display_data"
    }
   ],
   "source": [
    "unclass(d1)"
   ]
  },
  {
   "cell_type": "markdown",
   "metadata": {},
   "source": [
    " That's the exact number of days\n",
    " since 1970-01-01!\n",
    "\n",
    " However, if you print d1 to the\n",
    " console, you'll get today's date\n",
    " -- YEAR-MONTH-DAY. Give it a\n",
    " try."
   ]
  },
  {
   "cell_type": "code",
   "execution_count": 4,
   "metadata": {},
   "outputs": [
    {
     "data": {
      "text/html": [
       "<time datetime=\"2020-08-07\">2020-08-07</time>"
      ],
      "text/latex": [
       "2020-08-07"
      ],
      "text/markdown": [
       "2020-08-07"
      ],
      "text/plain": [
       "[1] \"2020-08-07\""
      ]
     },
     "metadata": {},
     "output_type": "display_data"
    }
   ],
   "source": [
    "d1"
   ]
  },
  {
   "cell_type": "markdown",
   "metadata": {},
   "source": [
    " What if we need to reference a\n",
    " date prior to 1970-01-01? Create\n",
    " a variable d2 containing\n",
    " as.Date(\"1969-01-01\")."
   ]
  },
  {
   "cell_type": "code",
   "execution_count": 6,
   "metadata": {},
   "outputs": [],
   "source": [
    "d2 <- as.Date(\"1969-01-01\")"
   ]
  },
  {
   "cell_type": "markdown",
   "metadata": {},
   "source": [
    " Now use unclass() again to see\n",
    " what d2 looks like internally."
   ]
  },
  {
   "cell_type": "code",
   "execution_count": 7,
   "metadata": {},
   "outputs": [
    {
     "data": {
      "text/html": [
       "-365"
      ],
      "text/latex": [
       "-365"
      ],
      "text/markdown": [
       "-365"
      ],
      "text/plain": [
       "[1] -365"
      ]
     },
     "metadata": {},
     "output_type": "display_data"
    }
   ],
   "source": [
    "unclass(d2)"
   ]
  },
  {
   "cell_type": "markdown",
   "metadata": {},
   "source": [
    " As you may have anticipated, you\n",
    " get a negative number. In this\n",
    " case, it's -365, since\n",
    " 1969-01-01 is exactly one\n",
    " calendar year (i.e. 365 days)\n",
    " BEFORE 1970-01-01.\n",
    "\n",
    " Now, let's take a look at how R\n",
    " stores times. You can access the\n",
    " current date and time using the\n",
    " Sys.time() function with no\n",
    " arguments. Do this and store the\n",
    " result in a variable called t1."
   ]
  },
  {
   "cell_type": "code",
   "execution_count": 8,
   "metadata": {},
   "outputs": [],
   "source": [
    "t1 <- Sys.time()"
   ]
  },
  {
   "cell_type": "code",
   "execution_count": 9,
   "metadata": {},
   "outputs": [
    {
     "data": {
      "text/plain": [
       "[1] \"2020-08-07 11:12:14 IST\""
      ]
     },
     "metadata": {},
     "output_type": "display_data"
    }
   ],
   "source": [
    "t1"
   ]
  },
  {
   "cell_type": "code",
   "execution_count": 10,
   "metadata": {},
   "outputs": [
    {
     "data": {
      "text/html": [
       "<ol class=list-inline>\n",
       "\t<li>'POSIXct'</li>\n",
       "\t<li>'POSIXt'</li>\n",
       "</ol>\n"
      ],
      "text/latex": [
       "\\begin{enumerate*}\n",
       "\\item 'POSIXct'\n",
       "\\item 'POSIXt'\n",
       "\\end{enumerate*}\n"
      ],
      "text/markdown": [
       "1. 'POSIXct'\n",
       "2. 'POSIXt'\n",
       "\n",
       "\n"
      ],
      "text/plain": [
       "[1] \"POSIXct\" \"POSIXt\" "
      ]
     },
     "metadata": {},
     "output_type": "display_data"
    }
   ],
   "source": [
    "class(t1)"
   ]
  },
  {
   "cell_type": "markdown",
   "metadata": {},
   "source": [
    " As mentioned earlier, POSIXct is just one of two\n",
    " ways that R represents time information. (You can\n",
    " ignore the second value above, POSIXt, which just\n",
    " functions as a common language between POSIXct and\n",
    " POSIXlt.) Use unclass() to see what t1 looks like\n",
    " internally -- the (large) number of seconds since\n",
    " the beginning of 1970."
   ]
  },
  {
   "cell_type": "code",
   "execution_count": 11,
   "metadata": {},
   "outputs": [
    {
     "data": {
      "text/html": [
       "1596778934.51798"
      ],
      "text/latex": [
       "1596778934.51798"
      ],
      "text/markdown": [
       "1596778934.51798"
      ],
      "text/plain": [
       "[1] 1596778935"
      ]
     },
     "metadata": {},
     "output_type": "display_data"
    }
   ],
   "source": [
    "unclass(t1)"
   ]
  },
  {
   "cell_type": "markdown",
   "metadata": {},
   "source": [
    " By default, Sys.time() returns an object of class\n",
    " POSIXct, but we can coerce the result to POSIXlt\n",
    " with as.POSIXlt(Sys.time()). Give it a try and\n",
    " store the result in t2.\n",
    "\n"
   ]
  },
  {
   "cell_type": "code",
   "execution_count": 12,
   "metadata": {},
   "outputs": [],
   "source": [
    "t2 <- as.POSIXlt(Sys.time())"
   ]
  },
  {
   "cell_type": "code",
   "execution_count": 13,
   "metadata": {},
   "outputs": [
    {
     "data": {
      "text/html": [
       "<ol class=list-inline>\n",
       "\t<li>'POSIXlt'</li>\n",
       "\t<li>'POSIXt'</li>\n",
       "</ol>\n"
      ],
      "text/latex": [
       "\\begin{enumerate*}\n",
       "\\item 'POSIXlt'\n",
       "\\item 'POSIXt'\n",
       "\\end{enumerate*}\n"
      ],
      "text/markdown": [
       "1. 'POSIXlt'\n",
       "2. 'POSIXt'\n",
       "\n",
       "\n"
      ],
      "text/plain": [
       "[1] \"POSIXlt\" \"POSIXt\" "
      ]
     },
     "metadata": {},
     "output_type": "display_data"
    }
   ],
   "source": [
    "class(t2)"
   ]
  },
  {
   "cell_type": "code",
   "execution_count": 14,
   "metadata": {},
   "outputs": [
    {
     "data": {
      "text/plain": [
       "[1] \"2020-08-07 11:14:08 IST\""
      ]
     },
     "metadata": {},
     "output_type": "display_data"
    }
   ],
   "source": [
    "t2"
   ]
  },
  {
   "cell_type": "code",
   "execution_count": 15,
   "metadata": {},
   "outputs": [
    {
     "data": {
      "text/html": [
       "<dl>\n",
       "\t<dt>$sec</dt>\n",
       "\t\t<dd>8.60069799423218</dd>\n",
       "\t<dt>$min</dt>\n",
       "\t\t<dd>14</dd>\n",
       "\t<dt>$hour</dt>\n",
       "\t\t<dd>11</dd>\n",
       "\t<dt>$mday</dt>\n",
       "\t\t<dd>7</dd>\n",
       "\t<dt>$mon</dt>\n",
       "\t\t<dd>7</dd>\n",
       "\t<dt>$year</dt>\n",
       "\t\t<dd>120</dd>\n",
       "\t<dt>$wday</dt>\n",
       "\t\t<dd>5</dd>\n",
       "\t<dt>$yday</dt>\n",
       "\t\t<dd>219</dd>\n",
       "\t<dt>$isdst</dt>\n",
       "\t\t<dd>0</dd>\n",
       "\t<dt>$zone</dt>\n",
       "\t\t<dd>'IST'</dd>\n",
       "\t<dt>$gmtoff</dt>\n",
       "\t\t<dd>19800</dd>\n",
       "</dl>\n"
      ],
      "text/latex": [
       "\\begin{description}\n",
       "\\item[\\$sec] 8.60069799423218\n",
       "\\item[\\$min] 14\n",
       "\\item[\\$hour] 11\n",
       "\\item[\\$mday] 7\n",
       "\\item[\\$mon] 7\n",
       "\\item[\\$year] 120\n",
       "\\item[\\$wday] 5\n",
       "\\item[\\$yday] 219\n",
       "\\item[\\$isdst] 0\n",
       "\\item[\\$zone] 'IST'\n",
       "\\item[\\$gmtoff] 19800\n",
       "\\end{description}\n"
      ],
      "text/markdown": [
       "$sec\n",
       ":   8.60069799423218\n",
       "$min\n",
       ":   14\n",
       "$hour\n",
       ":   11\n",
       "$mday\n",
       ":   7\n",
       "$mon\n",
       ":   7\n",
       "$year\n",
       ":   120\n",
       "$wday\n",
       ":   5\n",
       "$yday\n",
       ":   219\n",
       "$isdst\n",
       ":   0\n",
       "$zone\n",
       ":   'IST'\n",
       "$gmtoff\n",
       ":   19800\n",
       "\n",
       "\n"
      ],
      "text/plain": [
       "$sec\n",
       "[1] 8.600698\n",
       "\n",
       "$min\n",
       "[1] 14\n",
       "\n",
       "$hour\n",
       "[1] 11\n",
       "\n",
       "$mday\n",
       "[1] 7\n",
       "\n",
       "$mon\n",
       "[1] 7\n",
       "\n",
       "$year\n",
       "[1] 120\n",
       "\n",
       "$wday\n",
       "[1] 5\n",
       "\n",
       "$yday\n",
       "[1] 219\n",
       "\n",
       "$isdst\n",
       "[1] 0\n",
       "\n",
       "$zone\n",
       "[1] \"IST\"\n",
       "\n",
       "$gmtoff\n",
       "[1] 19800\n",
       "\n",
       "attr(,\"tzone\")\n",
       "[1] \"\"      \"IST\"   \"+0630\""
      ]
     },
     "metadata": {},
     "output_type": "display_data"
    }
   ],
   "source": [
    "unclass(t2)"
   ]
  },
  {
   "cell_type": "markdown",
   "metadata": {},
   "source": [
    " t2, like all POSIXlt objects, is just a list of\n",
    " values that make up the date and time. Use\n",
    " str(unclass(t2)) to have a more compact view."
   ]
  },
  {
   "cell_type": "code",
   "execution_count": 16,
   "metadata": {
    "scrolled": true
   },
   "outputs": [
    {
     "name": "stdout",
     "output_type": "stream",
     "text": [
      "List of 11\n",
      " $ sec   : num 8.6\n",
      " $ min   : int 14\n",
      " $ hour  : int 11\n",
      " $ mday  : int 7\n",
      " $ mon   : int 7\n",
      " $ year  : int 120\n",
      " $ wday  : int 5\n",
      " $ yday  : int 219\n",
      " $ isdst : int 0\n",
      " $ zone  : chr \"IST\"\n",
      " $ gmtoff: int 19800\n",
      " - attr(*, \"tzone\")= chr [1:3] \"\" \"IST\" \"+0630\"\n"
     ]
    }
   ],
   "source": [
    "str(unclass(t2))"
   ]
  },
  {
   "cell_type": "code",
   "execution_count": 17,
   "metadata": {},
   "outputs": [
    {
     "data": {
      "text/html": [
       "14"
      ],
      "text/latex": [
       "14"
      ],
      "text/markdown": [
       "14"
      ],
      "text/plain": [
       "[1] 14"
      ]
     },
     "metadata": {},
     "output_type": "display_data"
    }
   ],
   "source": [
    "t2$min"
   ]
  },
  {
   "cell_type": "markdown",
   "metadata": {},
   "source": [
    " Now that we have explored all three types of date\n",
    " and time objects, let's look at a few functions\n",
    " that extract useful information from any of these\n",
    " objects -- weekdays(), months(), and quarters().\n",
    "\n",
    " The weekdays() function will return the day of week\n",
    " from any date or time object. Try it out on d1,\n",
    " which is the Date object that contains today's\n",
    " date."
   ]
  },
  {
   "cell_type": "code",
   "execution_count": 18,
   "metadata": {},
   "outputs": [
    {
     "data": {
      "text/html": [
       "'Friday'"
      ],
      "text/latex": [
       "'Friday'"
      ],
      "text/markdown": [
       "'Friday'"
      ],
      "text/plain": [
       "[1] \"Friday\""
      ]
     },
     "metadata": {},
     "output_type": "display_data"
    }
   ],
   "source": [
    "weekdays(d1)"
   ]
  },
  {
   "cell_type": "code",
   "execution_count": 19,
   "metadata": {},
   "outputs": [
    {
     "data": {
      "text/html": [
       "'August'"
      ],
      "text/latex": [
       "'August'"
      ],
      "text/markdown": [
       "'August'"
      ],
      "text/plain": [
       "[1] \"August\""
      ]
     },
     "metadata": {},
     "output_type": "display_data"
    }
   ],
   "source": [
    "months(t1)"
   ]
  },
  {
   "cell_type": "code",
   "execution_count": 20,
   "metadata": {},
   "outputs": [
    {
     "data": {
      "text/html": [
       "'Q3'"
      ],
      "text/latex": [
       "'Q3'"
      ],
      "text/markdown": [
       "'Q3'"
      ],
      "text/plain": [
       "[1] \"Q3\""
      ]
     },
     "metadata": {},
     "output_type": "display_data"
    }
   ],
   "source": [
    "quarters(t2)"
   ]
  },
  {
   "cell_type": "markdown",
   "metadata": {},
   "source": [
    " Often, the dates and times in a dataset will be in\n",
    " a format that R does not recognize. The strptime()\n",
    " function can be helpful in this situation.\n",
    "\n",
    " strptime() converts character vectors to POSIXlt.\n",
    " In that sense, it is similar to as.POSIXlt(),\n",
    " except that the input doesn't have to be in a\n",
    " particular format (YYYY-MM-DD).\n",
    "\n",
    " To see how it works, store the following character\n",
    " string in a variable called t3: \"October 17, 1986\n",
    " 08:24\" (with the quotes)."
   ]
  },
  {
   "cell_type": "code",
   "execution_count": 21,
   "metadata": {},
   "outputs": [],
   "source": [
    "t3 <- \"October 17, 1986 08:24\""
   ]
  },
  {
   "cell_type": "markdown",
   "metadata": {},
   "source": [
    " Now, use strptime(t3, \"%B %d, %Y %H:%M\") to help R\n",
    " convert our date/time object to a format that it\n",
    " understands. Assign the result to a new variable\n",
    " called t4. (You should pull up the documentation\n",
    " for strptime() if you'd like to know more about how\n",
    " it works.)"
   ]
  },
  {
   "cell_type": "code",
   "execution_count": 23,
   "metadata": {},
   "outputs": [],
   "source": [
    "t4 <- strptime(t3, \"%B %d, %Y %H:%M\")"
   ]
  },
  {
   "cell_type": "code",
   "execution_count": 24,
   "metadata": {},
   "outputs": [
    {
     "data": {
      "text/plain": [
       "[1] \"1986-10-17 08:24:00 IST\""
      ]
     },
     "metadata": {},
     "output_type": "display_data"
    }
   ],
   "source": [
    "t4"
   ]
  },
  {
   "cell_type": "code",
   "execution_count": 25,
   "metadata": {},
   "outputs": [
    {
     "data": {
      "text/html": [
       "<ol class=list-inline>\n",
       "\t<li>'POSIXlt'</li>\n",
       "\t<li>'POSIXt'</li>\n",
       "</ol>\n"
      ],
      "text/latex": [
       "\\begin{enumerate*}\n",
       "\\item 'POSIXlt'\n",
       "\\item 'POSIXt'\n",
       "\\end{enumerate*}\n"
      ],
      "text/markdown": [
       "1. 'POSIXlt'\n",
       "2. 'POSIXt'\n",
       "\n",
       "\n"
      ],
      "text/plain": [
       "[1] \"POSIXlt\" \"POSIXt\" "
      ]
     },
     "metadata": {},
     "output_type": "display_data"
    }
   ],
   "source": [
    "class(t4)"
   ]
  },
  {
   "cell_type": "markdown",
   "metadata": {},
   "source": [
    " Finally, there are a number of operations that you can\n",
    " perform on dates and times, including arithmetic\n",
    " operations (+ and -) and comparisons (<, ==, etc.)\n",
    "\n",
    " The variable t1 contains the time at which you created\n",
    " it (recall you used Sys.time()). Confirm that some time\n",
    " has passed since you created t1 by using the 'greater\n",
    " than' operator to compare it to the current time:\n",
    " Sys.time() > t1"
   ]
  },
  {
   "cell_type": "code",
   "execution_count": 26,
   "metadata": {},
   "outputs": [
    {
     "data": {
      "text/html": [
       "TRUE"
      ],
      "text/latex": [
       "TRUE"
      ],
      "text/markdown": [
       "TRUE"
      ],
      "text/plain": [
       "[1] TRUE"
      ]
     },
     "metadata": {},
     "output_type": "display_data"
    }
   ],
   "source": [
    "Sys.time() > t1"
   ]
  },
  {
   "cell_type": "markdown",
   "metadata": {},
   "source": [
    " So we know that some time has passed, but how much? Try\n",
    " subtracting t1 from the current time using Sys.time() -\n",
    " t1. Don't forget the parentheses at the end of\n",
    " Sys.time(), since it is a function."
   ]
  },
  {
   "cell_type": "code",
   "execution_count": 27,
   "metadata": {},
   "outputs": [
    {
     "data": {
      "text/plain": [
       "Time difference of 52.66582 mins"
      ]
     },
     "metadata": {},
     "output_type": "display_data"
    }
   ],
   "source": [
    "Sys.time() - t1"
   ]
  },
  {
   "cell_type": "markdown",
   "metadata": {},
   "source": [
    " The same line of thinking applies to addition and the\n",
    " other comparison operators. If you want more control\n",
    " over the units when finding the above difference in\n",
    " times, you can use difftime(), which allows you to\n",
    " specify a 'units' parameter.\n",
    "\n",
    " Use difftime(Sys.time(), t1, units = 'days') to find the\n",
    " amount of time in DAYS that has passed since you created\n",
    " t1."
   ]
  },
  {
   "cell_type": "code",
   "execution_count": 28,
   "metadata": {},
   "outputs": [
    {
     "data": {
      "text/plain": [
       "Time difference of 0.03693709 days"
      ]
     },
     "metadata": {},
     "output_type": "display_data"
    }
   ],
   "source": [
    "difftime(Sys.time(), t1, units = 'days')"
   ]
  },
  {
   "cell_type": "markdown",
   "metadata": {},
   "source": [
    " In this lesson, you learned how to work with dates and\n",
    " times in R. While it is important to understand the\n",
    " basics, if you find yourself working with dates and\n",
    " times often, you may want to check out the lubridate\n",
    " package by Hadley Wickham."
   ]
  }
 ],
 "metadata": {
  "kernelspec": {
   "display_name": "R",
   "language": "R",
   "name": "ir"
  },
  "language_info": {
   "codemirror_mode": "r",
   "file_extension": ".r",
   "mimetype": "text/x-r-source",
   "name": "R",
   "pygments_lexer": "r",
   "version": "3.6.1"
  }
 },
 "nbformat": 4,
 "nbformat_minor": 4
}
